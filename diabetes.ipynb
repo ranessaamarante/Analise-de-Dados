{
  "nbformat": 4,
  "nbformat_minor": 0,
  "metadata": {
    "colab": {
      "name": "diabetes.ipynb",
      "provenance": []
    },
    "kernelspec": {
      "name": "python3",
      "display_name": "Python 3"
    },
    "language_info": {
      "name": "python"
    }
  },
  "cells": [
    {
      "cell_type": "code",
      "execution_count": 1,
      "metadata": {
        "id": "nSg8wjtejPhc"
      },
      "outputs": [],
      "source": [
        "import pandas as pd\n",
        "import numpy as np\n",
        "from scipy.stats import kurtosis, skew\n",
        "from scipy.stats.mstats import gmean,hmean\n",
        "from scipy import stats\n",
        "import seaborn as sns\n",
        "import matplotlib.pyplot as plt\n",
        "from math import sqrt\n",
        "from scipy.stats import pearsonr\n",
        "%matplotlib inline"
      ]
    },
    {
      "cell_type": "code",
      "source": [
        "def calcula_estatisticas(data):\n",
        "  mean = round(np.mean(data),2)\n",
        "  mode = round(stats.mode(data,)[0][0],2)\n",
        "  median = round(np.median(data),2)\n",
        "  var = round(np.var(data),2)\n",
        "  std = round(np.std(data),2)\n",
        "  coef_pearson = round(stats.skew(data),2)\n",
        "  coef_kurtosis = round(kurtosis(data),2)\n",
        "  msg = print(\"Media: {}\\nModa: {}\\nMediana: {}\\nVariância: {}\\nDesvio Padrão: {}\\nCoeficiente Person: {}\\nCoeficiente de Kurtosi: {}\".format(mean,median,mode,var,std,coef_pearson,coef_kurtosis))\n",
        "  return msg"
      ],
      "metadata": {
        "id": "UV_lVpfSjWOA"
      },
      "execution_count": 2,
      "outputs": []
    },
    {
      "cell_type": "code",
      "source": [
        ""
      ],
      "metadata": {
        "id": "DnnWxydljWQ1"
      },
      "execution_count": null,
      "outputs": []
    },
    {
      "cell_type": "code",
      "source": [
        ""
      ],
      "metadata": {
        "id": "J0bczf5ye1Dz"
      },
      "execution_count": null,
      "outputs": []
    },
    {
      "cell_type": "markdown",
      "source": [
        "## **Obtenção do dataset**\n"
      ],
      "metadata": {
        "id": "lzGCo_umjuxu"
      }
    },
    {
      "cell_type": "code",
      "source": [
        "from sklearn.datasets import load_diabetes\n",
        "dia = load_diabetes()"
      ],
      "metadata": {
        "id": "hnPhXgA7jWTR"
      },
      "execution_count": 3,
      "outputs": []
    },
    {
      "cell_type": "code",
      "source": [
        "dia.feature_names"
      ],
      "metadata": {
        "colab": {
          "base_uri": "https://localhost:8080/"
        },
        "id": "klj-WbUsjWWJ",
        "outputId": "109900ee-65e3-4032-fe42-0e9614cc3081"
      },
      "execution_count": 4,
      "outputs": [
        {
          "output_type": "execute_result",
          "data": {
            "text/plain": [
              "['age', 'sex', 'bmi', 'bp', 's1', 's2', 's3', 's4', 's5', 's6']"
            ]
          },
          "metadata": {},
          "execution_count": 4
        }
      ]
    },
    {
      "cell_type": "code",
      "source": [
        "dir(dia)"
      ],
      "metadata": {
        "colab": {
          "base_uri": "https://localhost:8080/"
        },
        "id": "6chm7wYEjWYx",
        "outputId": "89d0bf9a-9f3d-4bbe-99f0-b634df42a27e"
      },
      "execution_count": 5,
      "outputs": [
        {
          "output_type": "execute_result",
          "data": {
            "text/plain": [
              "['DESCR',\n",
              " 'data',\n",
              " 'data_filename',\n",
              " 'data_module',\n",
              " 'feature_names',\n",
              " 'frame',\n",
              " 'target',\n",
              " 'target_filename']"
            ]
          },
          "metadata": {},
          "execution_count": 5
        }
      ]
    },
    {
      "cell_type": "code",
      "source": [
        "dia = pd.DataFrame(data= np.c_[dia['data'], dia['target']],\n",
        "                     columns= dia['feature_names'] + ['Progression'])\n",
        "\n",
        "dia.head()"
      ],
      "metadata": {
        "colab": {
          "base_uri": "https://localhost:8080/",
          "height": 206
        },
        "id": "3mmXJmmdjWbf",
        "outputId": "a3286d13-5463-4b0a-e633-759921574666"
      },
      "execution_count": 6,
      "outputs": [
        {
          "output_type": "execute_result",
          "data": {
            "text/plain": [
              "        age       sex       bmi        bp        s1        s2        s3  \\\n",
              "0  0.038076  0.050680  0.061696  0.021872 -0.044223 -0.034821 -0.043401   \n",
              "1 -0.001882 -0.044642 -0.051474 -0.026328 -0.008449 -0.019163  0.074412   \n",
              "2  0.085299  0.050680  0.044451 -0.005671 -0.045599 -0.034194 -0.032356   \n",
              "3 -0.089063 -0.044642 -0.011595 -0.036656  0.012191  0.024991 -0.036038   \n",
              "4  0.005383 -0.044642 -0.036385  0.021872  0.003935  0.015596  0.008142   \n",
              "\n",
              "         s4        s5        s6  Progression  \n",
              "0 -0.002592  0.019908 -0.017646        151.0  \n",
              "1 -0.039493 -0.068330 -0.092204         75.0  \n",
              "2 -0.002592  0.002864 -0.025930        141.0  \n",
              "3  0.034309  0.022692 -0.009362        206.0  \n",
              "4 -0.002592 -0.031991 -0.046641        135.0  "
            ],
            "text/html": [
              "\n",
              "  <div id=\"df-d381f323-2a0d-4120-989f-1698baabfd11\">\n",
              "    <div class=\"colab-df-container\">\n",
              "      <div>\n",
              "<style scoped>\n",
              "    .dataframe tbody tr th:only-of-type {\n",
              "        vertical-align: middle;\n",
              "    }\n",
              "\n",
              "    .dataframe tbody tr th {\n",
              "        vertical-align: top;\n",
              "    }\n",
              "\n",
              "    .dataframe thead th {\n",
              "        text-align: right;\n",
              "    }\n",
              "</style>\n",
              "<table border=\"1\" class=\"dataframe\">\n",
              "  <thead>\n",
              "    <tr style=\"text-align: right;\">\n",
              "      <th></th>\n",
              "      <th>age</th>\n",
              "      <th>sex</th>\n",
              "      <th>bmi</th>\n",
              "      <th>bp</th>\n",
              "      <th>s1</th>\n",
              "      <th>s2</th>\n",
              "      <th>s3</th>\n",
              "      <th>s4</th>\n",
              "      <th>s5</th>\n",
              "      <th>s6</th>\n",
              "      <th>Progression</th>\n",
              "    </tr>\n",
              "  </thead>\n",
              "  <tbody>\n",
              "    <tr>\n",
              "      <th>0</th>\n",
              "      <td>0.038076</td>\n",
              "      <td>0.050680</td>\n",
              "      <td>0.061696</td>\n",
              "      <td>0.021872</td>\n",
              "      <td>-0.044223</td>\n",
              "      <td>-0.034821</td>\n",
              "      <td>-0.043401</td>\n",
              "      <td>-0.002592</td>\n",
              "      <td>0.019908</td>\n",
              "      <td>-0.017646</td>\n",
              "      <td>151.0</td>\n",
              "    </tr>\n",
              "    <tr>\n",
              "      <th>1</th>\n",
              "      <td>-0.001882</td>\n",
              "      <td>-0.044642</td>\n",
              "      <td>-0.051474</td>\n",
              "      <td>-0.026328</td>\n",
              "      <td>-0.008449</td>\n",
              "      <td>-0.019163</td>\n",
              "      <td>0.074412</td>\n",
              "      <td>-0.039493</td>\n",
              "      <td>-0.068330</td>\n",
              "      <td>-0.092204</td>\n",
              "      <td>75.0</td>\n",
              "    </tr>\n",
              "    <tr>\n",
              "      <th>2</th>\n",
              "      <td>0.085299</td>\n",
              "      <td>0.050680</td>\n",
              "      <td>0.044451</td>\n",
              "      <td>-0.005671</td>\n",
              "      <td>-0.045599</td>\n",
              "      <td>-0.034194</td>\n",
              "      <td>-0.032356</td>\n",
              "      <td>-0.002592</td>\n",
              "      <td>0.002864</td>\n",
              "      <td>-0.025930</td>\n",
              "      <td>141.0</td>\n",
              "    </tr>\n",
              "    <tr>\n",
              "      <th>3</th>\n",
              "      <td>-0.089063</td>\n",
              "      <td>-0.044642</td>\n",
              "      <td>-0.011595</td>\n",
              "      <td>-0.036656</td>\n",
              "      <td>0.012191</td>\n",
              "      <td>0.024991</td>\n",
              "      <td>-0.036038</td>\n",
              "      <td>0.034309</td>\n",
              "      <td>0.022692</td>\n",
              "      <td>-0.009362</td>\n",
              "      <td>206.0</td>\n",
              "    </tr>\n",
              "    <tr>\n",
              "      <th>4</th>\n",
              "      <td>0.005383</td>\n",
              "      <td>-0.044642</td>\n",
              "      <td>-0.036385</td>\n",
              "      <td>0.021872</td>\n",
              "      <td>0.003935</td>\n",
              "      <td>0.015596</td>\n",
              "      <td>0.008142</td>\n",
              "      <td>-0.002592</td>\n",
              "      <td>-0.031991</td>\n",
              "      <td>-0.046641</td>\n",
              "      <td>135.0</td>\n",
              "    </tr>\n",
              "  </tbody>\n",
              "</table>\n",
              "</div>\n",
              "      <button class=\"colab-df-convert\" onclick=\"convertToInteractive('df-d381f323-2a0d-4120-989f-1698baabfd11')\"\n",
              "              title=\"Convert this dataframe to an interactive table.\"\n",
              "              style=\"display:none;\">\n",
              "        \n",
              "  <svg xmlns=\"http://www.w3.org/2000/svg\" height=\"24px\"viewBox=\"0 0 24 24\"\n",
              "       width=\"24px\">\n",
              "    <path d=\"M0 0h24v24H0V0z\" fill=\"none\"/>\n",
              "    <path d=\"M18.56 5.44l.94 2.06.94-2.06 2.06-.94-2.06-.94-.94-2.06-.94 2.06-2.06.94zm-11 1L8.5 8.5l.94-2.06 2.06-.94-2.06-.94L8.5 2.5l-.94 2.06-2.06.94zm10 10l.94 2.06.94-2.06 2.06-.94-2.06-.94-.94-2.06-.94 2.06-2.06.94z\"/><path d=\"M17.41 7.96l-1.37-1.37c-.4-.4-.92-.59-1.43-.59-.52 0-1.04.2-1.43.59L10.3 9.45l-7.72 7.72c-.78.78-.78 2.05 0 2.83L4 21.41c.39.39.9.59 1.41.59.51 0 1.02-.2 1.41-.59l7.78-7.78 2.81-2.81c.8-.78.8-2.07 0-2.86zM5.41 20L4 18.59l7.72-7.72 1.47 1.35L5.41 20z\"/>\n",
              "  </svg>\n",
              "      </button>\n",
              "      \n",
              "  <style>\n",
              "    .colab-df-container {\n",
              "      display:flex;\n",
              "      flex-wrap:wrap;\n",
              "      gap: 12px;\n",
              "    }\n",
              "\n",
              "    .colab-df-convert {\n",
              "      background-color: #E8F0FE;\n",
              "      border: none;\n",
              "      border-radius: 50%;\n",
              "      cursor: pointer;\n",
              "      display: none;\n",
              "      fill: #1967D2;\n",
              "      height: 32px;\n",
              "      padding: 0 0 0 0;\n",
              "      width: 32px;\n",
              "    }\n",
              "\n",
              "    .colab-df-convert:hover {\n",
              "      background-color: #E2EBFA;\n",
              "      box-shadow: 0px 1px 2px rgba(60, 64, 67, 0.3), 0px 1px 3px 1px rgba(60, 64, 67, 0.15);\n",
              "      fill: #174EA6;\n",
              "    }\n",
              "\n",
              "    [theme=dark] .colab-df-convert {\n",
              "      background-color: #3B4455;\n",
              "      fill: #D2E3FC;\n",
              "    }\n",
              "\n",
              "    [theme=dark] .colab-df-convert:hover {\n",
              "      background-color: #434B5C;\n",
              "      box-shadow: 0px 1px 3px 1px rgba(0, 0, 0, 0.15);\n",
              "      filter: drop-shadow(0px 1px 2px rgba(0, 0, 0, 0.3));\n",
              "      fill: #FFFFFF;\n",
              "    }\n",
              "  </style>\n",
              "\n",
              "      <script>\n",
              "        const buttonEl =\n",
              "          document.querySelector('#df-d381f323-2a0d-4120-989f-1698baabfd11 button.colab-df-convert');\n",
              "        buttonEl.style.display =\n",
              "          google.colab.kernel.accessAllowed ? 'block' : 'none';\n",
              "\n",
              "        async function convertToInteractive(key) {\n",
              "          const element = document.querySelector('#df-d381f323-2a0d-4120-989f-1698baabfd11');\n",
              "          const dataTable =\n",
              "            await google.colab.kernel.invokeFunction('convertToInteractive',\n",
              "                                                     [key], {});\n",
              "          if (!dataTable) return;\n",
              "\n",
              "          const docLinkHtml = 'Like what you see? Visit the ' +\n",
              "            '<a target=\"_blank\" href=https://colab.research.google.com/notebooks/data_table.ipynb>data table notebook</a>'\n",
              "            + ' to learn more about interactive tables.';\n",
              "          element.innerHTML = '';\n",
              "          dataTable['output_type'] = 'display_data';\n",
              "          await google.colab.output.renderOutput(dataTable, element);\n",
              "          const docLink = document.createElement('div');\n",
              "          docLink.innerHTML = docLinkHtml;\n",
              "          element.appendChild(docLink);\n",
              "        }\n",
              "      </script>\n",
              "    </div>\n",
              "  </div>\n",
              "  "
            ]
          },
          "metadata": {},
          "execution_count": 6
        }
      ]
    },
    {
      "cell_type": "code",
      "source": [
        ""
      ],
      "metadata": {
        "id": "t6shqkK_waPH"
      },
      "execution_count": null,
      "outputs": []
    },
    {
      "cell_type": "code",
      "source": [
        ""
      ],
      "metadata": {
        "id": "-zNWy8_O1uVZ"
      },
      "execution_count": null,
      "outputs": []
    },
    {
      "cell_type": "markdown",
      "source": [
        "## **Modificação do dataset**"
      ],
      "metadata": {
        "id": "XJmh-LF-mUHJ"
      }
    },
    {
      "cell_type": "markdown",
      "source": [
        "Modificando o dataset para obter a versão original, usando os parâmetros abaixo: \n",
        "\n",
        "![a.png](data:image/png;base64,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)"
      ],
      "metadata": {
        "id": "ogxpt_0wjlop"
      }
    },
    {
      "cell_type": "markdown",
      "source": [
        "[link da imagem](https://www4.stat.ncsu.edu/~boos/var.select/diabetes.read.tab.out.txt)"
      ],
      "metadata": {
        "id": "KZySU0WkkIrU"
      }
    },
    {
      "cell_type": "markdown",
      "source": [
        "Aplicando o inverso das operações feitas:"
      ],
      "metadata": {
        "id": "QEfFT6Pu1MnB"
      }
    },
    {
      "cell_type": "code",
      "source": [
        "dia[\"age\"] = round(dia[\"age\"]*13.1090278*sqrt(442)+48.5180995)\n",
        "dia[\"sex\"] = abs(round(dia[\"sex\"]*1.4683258 *sqrt(442)+0.4995612))\n",
        "dia[\"bmi\"] = dia[\"bmi\"]*4.4181216*sqrt(442)+26.3757919\n",
        "dia[\"bp\"] = dia[\"bp\"]*13.8312834*sqrt(442)+94.6470136\n",
        "dia[\"s1\"] = round(dia[\"s1\"]*34.6080517*sqrt(442)+189.1402715)\n",
        "dia[\"s2\"] = dia[\"s2\"]*30.4130810*sqrt(442)+115.4391403\n",
        "dia[\"s3\"] = round(dia[\"s3\"]*12.9342022*sqrt(442)+49.7884615)\n",
        "dia[\"s4\"] = round(dia[\"s4\"]*1.2904499*sqrt(442)+4.0702489)\n",
        "dia[\"s5\"] = dia[\"s5\"]*0.5223906*sqrt(442)+ 4.6414109 \n",
        "dia[\"s6\"] = round(dia[\"s6\"]*11.4963347*sqrt(442)+91.2601810)"
      ],
      "metadata": {
        "id": "Z_22biVLwaSj"
      },
      "execution_count": 7,
      "outputs": []
    },
    {
      "cell_type": "code",
      "source": [
        "dia.head()"
      ],
      "metadata": {
        "colab": {
          "base_uri": "https://localhost:8080/",
          "height": 206
        },
        "id": "tyRj5olQIaeR",
        "outputId": "eff0394d-76f6-4ca9-9044-a82ff7376b4d"
      },
      "execution_count": 8,
      "outputs": [
        {
          "output_type": "execute_result",
          "data": {
            "text/plain": [
              "    age  sex        bmi          bp     s1          s2    s3   s4        s5  \\\n",
              "0  59.0  2.0  32.106486  101.007190  157.0   93.174800  38.0  4.0  4.860058   \n",
              "1  48.0  1.0  21.594588   86.991246  183.0  103.186131  70.0  3.0  3.890970   \n",
              "2  72.0  2.0  30.504673   92.998079  156.0   93.575253  41.0  4.0  4.672863   \n",
              "3  24.0  1.0  25.298781   83.987829  198.0  131.418086  40.0  5.0  4.890629   \n",
              "4  50.0  1.0  22.996175  101.007190  192.0  125.411287  52.0  4.0  4.290061   \n",
              "\n",
              "     s6  Progression  \n",
              "0  87.0        151.0  \n",
              "1  69.0         75.0  \n",
              "2  85.0        141.0  \n",
              "3  89.0        206.0  \n",
              "4  80.0        135.0  "
            ],
            "text/html": [
              "\n",
              "  <div id=\"df-7617a846-bccf-4365-a2bf-84f58f966e6f\">\n",
              "    <div class=\"colab-df-container\">\n",
              "      <div>\n",
              "<style scoped>\n",
              "    .dataframe tbody tr th:only-of-type {\n",
              "        vertical-align: middle;\n",
              "    }\n",
              "\n",
              "    .dataframe tbody tr th {\n",
              "        vertical-align: top;\n",
              "    }\n",
              "\n",
              "    .dataframe thead th {\n",
              "        text-align: right;\n",
              "    }\n",
              "</style>\n",
              "<table border=\"1\" class=\"dataframe\">\n",
              "  <thead>\n",
              "    <tr style=\"text-align: right;\">\n",
              "      <th></th>\n",
              "      <th>age</th>\n",
              "      <th>sex</th>\n",
              "      <th>bmi</th>\n",
              "      <th>bp</th>\n",
              "      <th>s1</th>\n",
              "      <th>s2</th>\n",
              "      <th>s3</th>\n",
              "      <th>s4</th>\n",
              "      <th>s5</th>\n",
              "      <th>s6</th>\n",
              "      <th>Progression</th>\n",
              "    </tr>\n",
              "  </thead>\n",
              "  <tbody>\n",
              "    <tr>\n",
              "      <th>0</th>\n",
              "      <td>59.0</td>\n",
              "      <td>2.0</td>\n",
              "      <td>32.106486</td>\n",
              "      <td>101.007190</td>\n",
              "      <td>157.0</td>\n",
              "      <td>93.174800</td>\n",
              "      <td>38.0</td>\n",
              "      <td>4.0</td>\n",
              "      <td>4.860058</td>\n",
              "      <td>87.0</td>\n",
              "      <td>151.0</td>\n",
              "    </tr>\n",
              "    <tr>\n",
              "      <th>1</th>\n",
              "      <td>48.0</td>\n",
              "      <td>1.0</td>\n",
              "      <td>21.594588</td>\n",
              "      <td>86.991246</td>\n",
              "      <td>183.0</td>\n",
              "      <td>103.186131</td>\n",
              "      <td>70.0</td>\n",
              "      <td>3.0</td>\n",
              "      <td>3.890970</td>\n",
              "      <td>69.0</td>\n",
              "      <td>75.0</td>\n",
              "    </tr>\n",
              "    <tr>\n",
              "      <th>2</th>\n",
              "      <td>72.0</td>\n",
              "      <td>2.0</td>\n",
              "      <td>30.504673</td>\n",
              "      <td>92.998079</td>\n",
              "      <td>156.0</td>\n",
              "      <td>93.575253</td>\n",
              "      <td>41.0</td>\n",
              "      <td>4.0</td>\n",
              "      <td>4.672863</td>\n",
              "      <td>85.0</td>\n",
              "      <td>141.0</td>\n",
              "    </tr>\n",
              "    <tr>\n",
              "      <th>3</th>\n",
              "      <td>24.0</td>\n",
              "      <td>1.0</td>\n",
              "      <td>25.298781</td>\n",
              "      <td>83.987829</td>\n",
              "      <td>198.0</td>\n",
              "      <td>131.418086</td>\n",
              "      <td>40.0</td>\n",
              "      <td>5.0</td>\n",
              "      <td>4.890629</td>\n",
              "      <td>89.0</td>\n",
              "      <td>206.0</td>\n",
              "    </tr>\n",
              "    <tr>\n",
              "      <th>4</th>\n",
              "      <td>50.0</td>\n",
              "      <td>1.0</td>\n",
              "      <td>22.996175</td>\n",
              "      <td>101.007190</td>\n",
              "      <td>192.0</td>\n",
              "      <td>125.411287</td>\n",
              "      <td>52.0</td>\n",
              "      <td>4.0</td>\n",
              "      <td>4.290061</td>\n",
              "      <td>80.0</td>\n",
              "      <td>135.0</td>\n",
              "    </tr>\n",
              "  </tbody>\n",
              "</table>\n",
              "</div>\n",
              "      <button class=\"colab-df-convert\" onclick=\"convertToInteractive('df-7617a846-bccf-4365-a2bf-84f58f966e6f')\"\n",
              "              title=\"Convert this dataframe to an interactive table.\"\n",
              "              style=\"display:none;\">\n",
              "        \n",
              "  <svg xmlns=\"http://www.w3.org/2000/svg\" height=\"24px\"viewBox=\"0 0 24 24\"\n",
              "       width=\"24px\">\n",
              "    <path d=\"M0 0h24v24H0V0z\" fill=\"none\"/>\n",
              "    <path d=\"M18.56 5.44l.94 2.06.94-2.06 2.06-.94-2.06-.94-.94-2.06-.94 2.06-2.06.94zm-11 1L8.5 8.5l.94-2.06 2.06-.94-2.06-.94L8.5 2.5l-.94 2.06-2.06.94zm10 10l.94 2.06.94-2.06 2.06-.94-2.06-.94-.94-2.06-.94 2.06-2.06.94z\"/><path d=\"M17.41 7.96l-1.37-1.37c-.4-.4-.92-.59-1.43-.59-.52 0-1.04.2-1.43.59L10.3 9.45l-7.72 7.72c-.78.78-.78 2.05 0 2.83L4 21.41c.39.39.9.59 1.41.59.51 0 1.02-.2 1.41-.59l7.78-7.78 2.81-2.81c.8-.78.8-2.07 0-2.86zM5.41 20L4 18.59l7.72-7.72 1.47 1.35L5.41 20z\"/>\n",
              "  </svg>\n",
              "      </button>\n",
              "      \n",
              "  <style>\n",
              "    .colab-df-container {\n",
              "      display:flex;\n",
              "      flex-wrap:wrap;\n",
              "      gap: 12px;\n",
              "    }\n",
              "\n",
              "    .colab-df-convert {\n",
              "      background-color: #E8F0FE;\n",
              "      border: none;\n",
              "      border-radius: 50%;\n",
              "      cursor: pointer;\n",
              "      display: none;\n",
              "      fill: #1967D2;\n",
              "      height: 32px;\n",
              "      padding: 0 0 0 0;\n",
              "      width: 32px;\n",
              "    }\n",
              "\n",
              "    .colab-df-convert:hover {\n",
              "      background-color: #E2EBFA;\n",
              "      box-shadow: 0px 1px 2px rgba(60, 64, 67, 0.3), 0px 1px 3px 1px rgba(60, 64, 67, 0.15);\n",
              "      fill: #174EA6;\n",
              "    }\n",
              "\n",
              "    [theme=dark] .colab-df-convert {\n",
              "      background-color: #3B4455;\n",
              "      fill: #D2E3FC;\n",
              "    }\n",
              "\n",
              "    [theme=dark] .colab-df-convert:hover {\n",
              "      background-color: #434B5C;\n",
              "      box-shadow: 0px 1px 3px 1px rgba(0, 0, 0, 0.15);\n",
              "      filter: drop-shadow(0px 1px 2px rgba(0, 0, 0, 0.3));\n",
              "      fill: #FFFFFF;\n",
              "    }\n",
              "  </style>\n",
              "\n",
              "      <script>\n",
              "        const buttonEl =\n",
              "          document.querySelector('#df-7617a846-bccf-4365-a2bf-84f58f966e6f button.colab-df-convert');\n",
              "        buttonEl.style.display =\n",
              "          google.colab.kernel.accessAllowed ? 'block' : 'none';\n",
              "\n",
              "        async function convertToInteractive(key) {\n",
              "          const element = document.querySelector('#df-7617a846-bccf-4365-a2bf-84f58f966e6f');\n",
              "          const dataTable =\n",
              "            await google.colab.kernel.invokeFunction('convertToInteractive',\n",
              "                                                     [key], {});\n",
              "          if (!dataTable) return;\n",
              "\n",
              "          const docLinkHtml = 'Like what you see? Visit the ' +\n",
              "            '<a target=\"_blank\" href=https://colab.research.google.com/notebooks/data_table.ipynb>data table notebook</a>'\n",
              "            + ' to learn more about interactive tables.';\n",
              "          element.innerHTML = '';\n",
              "          dataTable['output_type'] = 'display_data';\n",
              "          await google.colab.output.renderOutput(dataTable, element);\n",
              "          const docLink = document.createElement('div');\n",
              "          docLink.innerHTML = docLinkHtml;\n",
              "          element.appendChild(docLink);\n",
              "        }\n",
              "      </script>\n",
              "    </div>\n",
              "  </div>\n",
              "  "
            ]
          },
          "metadata": {},
          "execution_count": 8
        }
      ]
    },
    {
      "cell_type": "code",
      "source": [
        ""
      ],
      "metadata": {
        "id": "SWzOACd2Iah2"
      },
      "execution_count": null,
      "outputs": []
    },
    {
      "cell_type": "code",
      "source": [
        ""
      ],
      "metadata": {
        "id": "GISKV9KEIalS"
      },
      "execution_count": null,
      "outputs": []
    },
    {
      "cell_type": "markdown",
      "source": [
        "## **Explorando os dados**"
      ],
      "metadata": {
        "id": "86Hi3h8Awagb"
      }
    },
    {
      "cell_type": "markdown",
      "source": [
        ""
      ],
      "metadata": {
        "id": "UOGDxO5T2H_B"
      }
    },
    {
      "cell_type": "code",
      "source": [
        "plt.figure(figsize=(15,10))\n",
        "\n",
        "plt.scatter(dia['s1'],dia['s2'],c=dia['sex'],cmap='viridis')\n",
        "plt.colorbar()\n",
        "plt.xlabel('s1')\n",
        "plt.ylabel('s2')\n",
        "plt.title('Progressão da Doença')\n",
        "plt.show()"
      ],
      "metadata": {
        "id": "99nA9cXvUP08",
        "colab": {
          "base_uri": "https://localhost:8080/",
          "height": 621
        },
        "outputId": "23f7e2ef-7cb8-41e0-f8e4-2ad6751cfb9d"
      },
      "execution_count": 9,
      "outputs": [
        {
          "output_type": "display_data",
          "data": {
            "text/plain": [
              "<Figure size 1080x720 with 2 Axes>"
            ],
            "image/png": "[encoded data removed]"
          },
          "metadata": {
            "needs_background": "light"
          }
        }
      ]
    },
    {
      "cell_type": "markdown",
      "source": [
        "Há uma alta correlação entre s1 e s2."
      ],
      "metadata": {
        "id": "Khis7vvj5C5j"
      }
    },
    {
      "cell_type": "code",
      "source": [
        "corr, _ = pearsonr(dia[\"s1\"], dia[\"s2\"])\n",
        "corr"
      ],
      "metadata": {
        "colab": {
          "base_uri": "https://localhost:8080/"
        },
        "id": "Sr2n5CXv5G8z",
        "outputId": "048a55d3-f51f-46ff-89f4-4ad90a158b4e"
      },
      "execution_count": null,
      "outputs": [
        {
          "output_type": "execute_result",
          "data": {
            "text/plain": [
              "0.8966629578104899"
            ]
          },
          "metadata": {},
          "execution_count": 25
        }
      ]
    },
    {
      "cell_type": "code",
      "source": [
        ""
      ],
      "metadata": {
        "id": "OyW-8THK5VZP"
      },
      "execution_count": null,
      "outputs": []
    },
    {
      "cell_type": "code",
      "source": [
        ""
      ],
      "metadata": {
        "id": "GCHz46MYRK0b"
      },
      "execution_count": null,
      "outputs": []
    },
    {
      "cell_type": "markdown",
      "source": [
        "## **Dividindo por faixa de progressão da doença**"
      ],
      "metadata": {
        "id": "_-xph_r9wpl9"
      }
    },
    {
      "cell_type": "code",
      "source": [
        "p0 = dia.loc[dia[\"Progression\"]<=150]\n",
        "p1 = dia.loc[(dia[\"Progression\"]>150) & (dia[\"Progression\"]<=250)]\n",
        "p2 = dia.loc[(dia[\"Progression\"]>250)]"
      ],
      "metadata": {
        "id": "LzDGfxBspvzA"
      },
      "execution_count": 10,
      "outputs": []
    },
    {
      "cell_type": "code",
      "source": [
        "c0 = pd.DataFrame.copy(p0)\n",
        "c1 = pd.DataFrame.copy(p1)\n",
        "c2 = pd.DataFrame.copy(p2)"
      ],
      "metadata": {
        "id": "S6CJ3yTsjWjc"
      },
      "execution_count": 11,
      "outputs": []
    },
    {
      "cell_type": "code",
      "source": [
        "c0.loc[:,\"Progression\"] = \"c0\"\n",
        "c1.loc[:,\"Progression\"] = \"c1\"\n",
        "c2.loc[:,\"Progression\"] = \"c2\""
      ],
      "metadata": {
        "id": "GYILdTyJowIv"
      },
      "execution_count": 12,
      "outputs": []
    },
    {
      "cell_type": "code",
      "source": [
        "new = pd.concat([c0,c1,c2])"
      ],
      "metadata": {
        "id": "gj_A4RQScWHG"
      },
      "execution_count": 13,
      "outputs": []
    },
    {
      "cell_type": "code",
      "source": [
        "new"
      ],
      "metadata": {
        "colab": {
          "base_uri": "https://localhost:8080/",
          "height": 424
        },
        "id": "XGt0ESYuomQi",
        "outputId": "c482cd14-077a-4267-cd72-3dfb800dc203"
      },
      "execution_count": 14,
      "outputs": [
        {
          "output_type": "execute_result",
          "data": {
            "text/plain": [
              "      age  sex        bmi          bp     s1          s2    s3   s4        s5  \\\n",
              "1    48.0  1.0  21.594588   86.991246  183.0  103.186131  70.0  3.0  3.890970   \n",
              "2    72.0  2.0  30.504673   92.998079  156.0   93.575253  41.0  4.0  4.672863   \n",
              "4    50.0  1.0  22.996175  101.007190  192.0  125.411287  52.0  4.0  4.290061   \n",
              "5    23.0  1.0  22.595721   88.993523  139.0   64.742618  61.0  2.0  4.189142   \n",
              "6    36.0  2.0  21.995042   89.994662  160.0   99.582052  50.0  3.0  3.950461   \n",
              "..    ...  ...        ...         ...    ...         ...   ...  ...       ...   \n",
              "404  44.0  1.0  31.405693  115.023134  165.0   97.579786  52.0  3.0  4.343467   \n",
              "405  62.0  2.0  37.812945  119.027690  113.0   50.926981  31.0  4.0  5.043878   \n",
              "412  69.0  1.0  34.308979  113.020857  200.0  123.809474  54.0  4.0  4.709606   \n",
              "416  41.0  1.0  33.808413  123.365958  187.0  127.013100  45.0  4.0  4.317120   \n",
              "428  62.0  2.0  34.609319  120.028829  215.0  129.215593  43.0  5.0  5.366794   \n",
              "\n",
              "        s6 Progression  \n",
              "1     69.0          c0  \n",
              "2     85.0          c0  \n",
              "4     80.0          c0  \n",
              "5     68.0          c0  \n",
              "6     82.0          c0  \n",
              "..     ...         ...  \n",
              "404   89.0          c2  \n",
              "405   84.0          c2  \n",
              "412  112.0          c2  \n",
              "416  100.0          c2  \n",
              "428  123.0          c2  \n",
              "\n",
              "[442 rows x 11 columns]"
            ],
            "text/html": [
              "\n",
              "  <div id=\"df-4088fed9-5022-4b8a-9d28-8d99b27c705b\">\n",
              "    <div class=\"colab-df-container\">\n",
              "      <div>\n",
              "<style scoped>\n",
              "    .dataframe tbody tr th:only-of-type {\n",
              "        vertical-align: middle;\n",
              "    }\n",
              "\n",
              "    .dataframe tbody tr th {\n",
              "        vertical-align: top;\n",
              "    }\n",
              "\n",
              "    .dataframe thead th {\n",
              "        text-align: right;\n",
              "    }\n",
              "</style>\n",
              "<table border=\"1\" class=\"dataframe\">\n",
              "  <thead>\n",
              "    <tr style=\"text-align: right;\">\n",
              "      <th></th>\n",
              "      <th>age</th>\n",
              "      <th>sex</th>\n",
              "      <th>bmi</th>\n",
              "      <th>bp</th>\n",
              "      <th>s1</th>\n",
              "      <th>s2</th>\n",
              "      <th>s3</th>\n",
              "      <th>s4</th>\n",
              "      <th>s5</th>\n",
              "      <th>s6</th>\n",
              "      <th>Progression</th>\n",
              "    </tr>\n",
              "  </thead>\n",
              "  <tbody>\n",
              "    <tr>\n",
              "      <th>1</th>\n",
              "      <td>48.0</td>\n",
              "      <td>1.0</td>\n",
              "      <td>21.594588</td>\n",
              "      <td>86.991246</td>\n",
              "      <td>183.0</td>\n",
              "      <td>103.186131</td>\n",
              "      <td>70.0</td>\n",
              "      <td>3.0</td>\n",
              "      <td>3.890970</td>\n",
              "      <td>69.0</td>\n",
              "      <td>c0</td>\n",
              "    </tr>\n",
              "    <tr>\n",
              "      <th>2</th>\n",
              "      <td>72.0</td>\n",
              "      <td>2.0</td>\n",
              "      <td>30.504673</td>\n",
              "      <td>92.998079</td>\n",
              "      <td>156.0</td>\n",
              "      <td>93.575253</td>\n",
              "      <td>41.0</td>\n",
              "      <td>4.0</td>\n",
              "      <td>4.672863</td>\n",
              "      <td>85.0</td>\n",
              "      <td>c0</td>\n",
              "    </tr>\n",
              "    <tr>\n",
              "      <th>4</th>\n",
              "      <td>50.0</td>\n",
              "      <td>1.0</td>\n",
              "      <td>22.996175</td>\n",
              "      <td>101.007190</td>\n",
              "      <td>192.0</td>\n",
              "      <td>125.411287</td>\n",
              "      <td>52.0</td>\n",
              "      <td>4.0</td>\n",
              "      <td>4.290061</td>\n",
              "      <td>80.0</td>\n",
              "      <td>c0</td>\n",
              "    </tr>\n",
              "    <tr>\n",
              "      <th>5</th>\n",
              "      <td>23.0</td>\n",
              "      <td>1.0</td>\n",
              "      <td>22.595721</td>\n",
              "      <td>88.993523</td>\n",
              "      <td>139.0</td>\n",
              "      <td>64.742618</td>\n",
              "      <td>61.0</td>\n",
              "      <td>2.0</td>\n",
              "      <td>4.189142</td>\n",
              "      <td>68.0</td>\n",
              "      <td>c0</td>\n",
              "    </tr>\n",
              "    <tr>\n",
              "      <th>6</th>\n",
              "      <td>36.0</td>\n",
              "      <td>2.0</td>\n",
              "      <td>21.995042</td>\n",
              "      <td>89.994662</td>\n",
              "      <td>160.0</td>\n",
              "      <td>99.582052</td>\n",
              "      <td>50.0</td>\n",
              "      <td>3.0</td>\n",
              "      <td>3.950461</td>\n",
              "      <td>82.0</td>\n",
              "      <td>c0</td>\n",
              "    </tr>\n",
              "    <tr>\n",
              "      <th>...</th>\n",
              "      <td>...</td>\n",
              "      <td>...</td>\n",
              "      <td>...</td>\n",
              "      <td>...</td>\n",
              "      <td>...</td>\n",
              "      <td>...</td>\n",
              "      <td>...</td>\n",
              "      <td>...</td>\n",
              "      <td>...</td>\n",
              "      <td>...</td>\n",
              "      <td>...</td>\n",
              "    </tr>\n",
              "    <tr>\n",
              "      <th>404</th>\n",
              "      <td>44.0</td>\n",
              "      <td>1.0</td>\n",
              "      <td>31.405693</td>\n",
              "      <td>115.023134</td>\n",
              "      <td>165.0</td>\n",
              "      <td>97.579786</td>\n",
              "      <td>52.0</td>\n",
              "      <td>3.0</td>\n",
              "      <td>4.343467</td>\n",
              "      <td>89.0</td>\n",
              "      <td>c2</td>\n",
              "    </tr>\n",
              "    <tr>\n",
              "      <th>405</th>\n",
              "      <td>62.0</td>\n",
              "      <td>2.0</td>\n",
              "      <td>37.812945</td>\n",
              "      <td>119.027690</td>\n",
              "      <td>113.0</td>\n",
              "      <td>50.926981</td>\n",
              "      <td>31.0</td>\n",
              "      <td>4.0</td>\n",
              "      <td>5.043878</td>\n",
              "      <td>84.0</td>\n",
              "      <td>c2</td>\n",
              "    </tr>\n",
              "    <tr>\n",
              "      <th>412</th>\n",
              "      <td>69.0</td>\n",
              "      <td>1.0</td>\n",
              "      <td>34.308979</td>\n",
              "      <td>113.020857</td>\n",
              "      <td>200.0</td>\n",
              "      <td>123.809474</td>\n",
              "      <td>54.0</td>\n",
              "      <td>4.0</td>\n",
              "      <td>4.709606</td>\n",
              "      <td>112.0</td>\n",
              "      <td>c2</td>\n",
              "    </tr>\n",
              "    <tr>\n",
              "      <th>416</th>\n",
              "      <td>41.0</td>\n",
              "      <td>1.0</td>\n",
              "      <td>33.808413</td>\n",
              "      <td>123.365958</td>\n",
              "      <td>187.0</td>\n",
              "      <td>127.013100</td>\n",
              "      <td>45.0</td>\n",
              "      <td>4.0</td>\n",
              "      <td>4.317120</td>\n",
              "      <td>100.0</td>\n",
              "      <td>c2</td>\n",
              "    </tr>\n",
              "    <tr>\n",
              "      <th>428</th>\n",
              "      <td>62.0</td>\n",
              "      <td>2.0</td>\n",
              "      <td>34.609319</td>\n",
              "      <td>120.028829</td>\n",
              "      <td>215.0</td>\n",
              "      <td>129.215593</td>\n",
              "      <td>43.0</td>\n",
              "      <td>5.0</td>\n",
              "      <td>5.366794</td>\n",
              "      <td>123.0</td>\n",
              "      <td>c2</td>\n",
              "    </tr>\n",
              "  </tbody>\n",
              "</table>\n",
              "<p>442 rows × 11 columns</p>\n",
              "</div>\n",
              "      <button class=\"colab-df-convert\" onclick=\"convertToInteractive('df-4088fed9-5022-4b8a-9d28-8d99b27c705b')\"\n",
              "              title=\"Convert this dataframe to an interactive table.\"\n",
              "              style=\"display:none;\">\n",
              "        \n",
              "  <svg xmlns=\"http://www.w3.org/2000/svg\" height=\"24px\"viewBox=\"0 0 24 24\"\n",
              "       width=\"24px\">\n",
              "    <path d=\"M0 0h24v24H0V0z\" fill=\"none\"/>\n",
              "    <path d=\"M18.56 5.44l.94 2.06.94-2.06 2.06-.94-2.06-.94-.94-2.06-.94 2.06-2.06.94zm-11 1L8.5 8.5l.94-2.06 2.06-.94-2.06-.94L8.5 2.5l-.94 2.06-2.06.94zm10 10l.94 2.06.94-2.06 2.06-.94-2.06-.94-.94-2.06-.94 2.06-2.06.94z\"/><path d=\"M17.41 7.96l-1.37-1.37c-.4-.4-.92-.59-1.43-.59-.52 0-1.04.2-1.43.59L10.3 9.45l-7.72 7.72c-.78.78-.78 2.05 0 2.83L4 21.41c.39.39.9.59 1.41.59.51 0 1.02-.2 1.41-.59l7.78-7.78 2.81-2.81c.8-.78.8-2.07 0-2.86zM5.41 20L4 18.59l7.72-7.72 1.47 1.35L5.41 20z\"/>\n",
              "  </svg>\n",
              "      </button>\n",
              "      \n",
              "  <style>\n",
              "    .colab-df-container {\n",
              "      display:flex;\n",
              "      flex-wrap:wrap;\n",
              "      gap: 12px;\n",
              "    }\n",
              "\n",
              "    .colab-df-convert {\n",
              "      background-color: #E8F0FE;\n",
              "      border: none;\n",
              "      border-radius: 50%;\n",
              "      cursor: pointer;\n",
              "      display: none;\n",
              "      fill: #1967D2;\n",
              "      height: 32px;\n",
              "      padding: 0 0 0 0;\n",
              "      width: 32px;\n",
              "    }\n",
              "\n",
              "    .colab-df-convert:hover {\n",
              "      background-color: #E2EBFA;\n",
              "      box-shadow: 0px 1px 2px rgba(60, 64, 67, 0.3), 0px 1px 3px 1px rgba(60, 64, 67, 0.15);\n",
              "      fill: #174EA6;\n",
              "    }\n",
              "\n",
              "    [theme=dark] .colab-df-convert {\n",
              "      background-color: #3B4455;\n",
              "      fill: #D2E3FC;\n",
              "    }\n",
              "\n",
              "    [theme=dark] .colab-df-convert:hover {\n",
              "      background-color: #434B5C;\n",
              "      box-shadow: 0px 1px 3px 1px rgba(0, 0, 0, 0.15);\n",
              "      filter: drop-shadow(0px 1px 2px rgba(0, 0, 0, 0.3));\n",
              "      fill: #FFFFFF;\n",
              "    }\n",
              "  </style>\n",
              "\n",
              "      <script>\n",
              "        const buttonEl =\n",
              "          document.querySelector('#df-4088fed9-5022-4b8a-9d28-8d99b27c705b button.colab-df-convert');\n",
              "        buttonEl.style.display =\n",
              "          google.colab.kernel.accessAllowed ? 'block' : 'none';\n",
              "\n",
              "        async function convertToInteractive(key) {\n",
              "          const element = document.querySelector('#df-4088fed9-5022-4b8a-9d28-8d99b27c705b');\n",
              "          const dataTable =\n",
              "            await google.colab.kernel.invokeFunction('convertToInteractive',\n",
              "                                                     [key], {});\n",
              "          if (!dataTable) return;\n",
              "\n",
              "          const docLinkHtml = 'Like what you see? Visit the ' +\n",
              "            '<a target=\"_blank\" href=https://colab.research.google.com/notebooks/data_table.ipynb>data table notebook</a>'\n",
              "            + ' to learn more about interactive tables.';\n",
              "          element.innerHTML = '';\n",
              "          dataTable['output_type'] = 'display_data';\n",
              "          await google.colab.output.renderOutput(dataTable, element);\n",
              "          const docLink = document.createElement('div');\n",
              "          docLink.innerHTML = docLinkHtml;\n",
              "          element.appendChild(docLink);\n",
              "        }\n",
              "      </script>\n",
              "    </div>\n",
              "  </div>\n",
              "  "
            ]
          },
          "metadata": {},
          "execution_count": 14
        }
      ]
    },
    {
      "cell_type": "code",
      "source": [
        ""
      ],
      "metadata": {
        "id": "z4PnvBzsw0rP"
      },
      "execution_count": null,
      "outputs": []
    },
    {
      "cell_type": "code",
      "source": [
        ""
      ],
      "metadata": {
        "id": "iTKqOxzSw0uh"
      },
      "execution_count": null,
      "outputs": []
    },
    {
      "cell_type": "markdown",
      "source": [
        "## **Estatísticas por faixa de progressão**"
      ],
      "metadata": {
        "id": "zAHJYIUCpifw"
      }
    },
    {
      "cell_type": "code",
      "source": [
        ""
      ],
      "metadata": {
        "id": "QG0gsP01k7ib"
      },
      "execution_count": null,
      "outputs": []
    },
    {
      "cell_type": "markdown",
      "source": [
        "\n",
        "\n",
        "*   Faixa c0: Progression < 150\n",
        "*   Faixa c1: 150 < Progression <= 250\n",
        "*   Faixa c2: Progression > 250\n"
      ],
      "metadata": {
        "id": "CFICbneik72F"
      }
    },
    {
      "cell_type": "code",
      "source": [
        ""
      ],
      "metadata": {
        "id": "9MrWXWoQlUHM"
      },
      "execution_count": null,
      "outputs": []
    },
    {
      "cell_type": "code",
      "source": [
        ""
      ],
      "metadata": {
        "id": "cMkzff7PlUPp"
      },
      "execution_count": null,
      "outputs": []
    },
    {
      "cell_type": "markdown",
      "source": [
        "*   Faixa c0\n",
        "\n"
      ],
      "metadata": {
        "id": "GJ0rhYT2NZZH"
      }
    },
    {
      "cell_type": "code",
      "source": [
        "c0.describe()"
      ],
      "metadata": {
        "id": "uf6_7GKNcWCI",
        "colab": {
          "base_uri": "https://localhost:8080/",
          "height": 300
        },
        "outputId": "88727787-849f-42f5-982b-c9f190a77782"
      },
      "execution_count": 15,
      "outputs": [
        {
          "output_type": "execute_result",
          "data": {
            "text/plain": [
              "              age         sex         bmi          bp          s1          s2  \\\n",
              "count  242.000000  242.000000  242.000000  242.000000  242.000000  242.000000   \n",
              "mean    46.669421    1.458678   24.564892   89.808500  183.516529  111.684593   \n",
              "std     13.182025    0.499322    3.564733   11.827436   33.357515   30.025235   \n",
              "min     19.000000    1.000000   17.990509   61.962774  110.000000   41.516330   \n",
              "25%     37.000000    1.000000   22.095155   82.486121  161.250000   93.575253   \n",
              "50%     48.000000    1.000000   24.097421   87.992385  182.000000  107.491004   \n",
              "75%     56.000000    2.000000   26.575226   97.002634  203.000000  126.362364   \n",
              "max     74.000000    2.000000   35.009773  125.034523  300.000000  242.543865   \n",
              "\n",
              "               s3          s4          s5          s6  \n",
              "count  242.000000  242.000000  242.000000  242.000000  \n",
              "mean    53.595041    3.669421    4.406252   87.979339  \n",
              "std     13.524576    1.162259    0.442244   10.468466  \n",
              "min     23.000000    2.000000    3.256530   58.000000  \n",
              "25%     44.250000    3.000000    4.097861   81.000000  \n",
              "50%     53.000000    3.000000    4.375435   88.500000  \n",
              "75%     62.000000    4.000000    4.661090   95.000000  \n",
              "max     98.000000    9.000000    6.095211  117.000000  "
            ],
            "text/html": [
              "\n",
              "  <div id=\"df-8e020e70-80bf-4096-b118-be11137f0808\">\n",
              "    <div class=\"colab-df-container\">\n",
              "      <div>\n",
              "<style scoped>\n",
              "    .dataframe tbody tr th:only-of-type {\n",
              "        vertical-align: middle;\n",
              "    }\n",
              "\n",
              "    .dataframe tbody tr th {\n",
              "        vertical-align: top;\n",
              "    }\n",
              "\n",
              "    .dataframe thead th {\n",
              "        text-align: right;\n",
              "    }\n",
              "</style>\n",
              "<table border=\"1\" class=\"dataframe\">\n",
              "  <thead>\n",
              "    <tr style=\"text-align: right;\">\n",
              "      <th></th>\n",
              "      <th>age</th>\n",
              "      <th>sex</th>\n",
              "      <th>bmi</th>\n",
              "      <th>bp</th>\n",
              "      <th>s1</th>\n",
              "      <th>s2</th>\n",
              "      <th>s3</th>\n",
              "      <th>s4</th>\n",
              "      <th>s5</th>\n",
              "      <th>s6</th>\n",
              "    </tr>\n",
              "  </thead>\n",
              "  <tbody>\n",
              "    <tr>\n",
              "      <th>count</th>\n",
              "      <td>242.000000</td>\n",
              "      <td>242.000000</td>\n",
              "      <td>242.000000</td>\n",
              "      <td>242.000000</td>\n",
              "      <td>242.000000</td>\n",
              "      <td>242.000000</td>\n",
              "      <td>242.000000</td>\n",
              "      <td>242.000000</td>\n",
              "      <td>242.000000</td>\n",
              "      <td>242.000000</td>\n",
              "    </tr>\n",
              "    <tr>\n",
              "      <th>mean</th>\n",
              "      <td>46.669421</td>\n",
              "      <td>1.458678</td>\n",
              "      <td>24.564892</td>\n",
              "      <td>89.808500</td>\n",
              "      <td>183.516529</td>\n",
              "      <td>111.684593</td>\n",
              "      <td>53.595041</td>\n",
              "      <td>3.669421</td>\n",
              "      <td>4.406252</td>\n",
              "      <td>87.979339</td>\n",
              "    </tr>\n",
              "    <tr>\n",
              "      <th>std</th>\n",
              "      <td>13.182025</td>\n",
              "      <td>0.499322</td>\n",
              "      <td>3.564733</td>\n",
              "      <td>11.827436</td>\n",
              "      <td>33.357515</td>\n",
              "      <td>30.025235</td>\n",
              "      <td>13.524576</td>\n",
              "      <td>1.162259</td>\n",
              "      <td>0.442244</td>\n",
              "      <td>10.468466</td>\n",
              "    </tr>\n",
              "    <tr>\n",
              "      <th>min</th>\n",
              "      <td>19.000000</td>\n",
              "      <td>1.000000</td>\n",
              "      <td>17.990509</td>\n",
              "      <td>61.962774</td>\n",
              "      <td>110.000000</td>\n",
              "      <td>41.516330</td>\n",
              "      <td>23.000000</td>\n",
              "      <td>2.000000</td>\n",
              "      <td>3.256530</td>\n",
              "      <td>58.000000</td>\n",
              "    </tr>\n",
              "    <tr>\n",
              "      <th>25%</th>\n",
              "      <td>37.000000</td>\n",
              "      <td>1.000000</td>\n",
              "      <td>22.095155</td>\n",
              "      <td>82.486121</td>\n",
              "      <td>161.250000</td>\n",
              "      <td>93.575253</td>\n",
              "      <td>44.250000</td>\n",
              "      <td>3.000000</td>\n",
              "      <td>4.097861</td>\n",
              "      <td>81.000000</td>\n",
              "    </tr>\n",
              "    <tr>\n",
              "      <th>50%</th>\n",
              "      <td>48.000000</td>\n",
              "      <td>1.000000</td>\n",
              "      <td>24.097421</td>\n",
              "      <td>87.992385</td>\n",
              "      <td>182.000000</td>\n",
              "      <td>107.491004</td>\n",
              "      <td>53.000000</td>\n",
              "      <td>3.000000</td>\n",
              "      <td>4.375435</td>\n",
              "      <td>88.500000</td>\n",
              "    </tr>\n",
              "    <tr>\n",
              "      <th>75%</th>\n",
              "      <td>56.000000</td>\n",
              "      <td>2.000000</td>\n",
              "      <td>26.575226</td>\n",
              "      <td>97.002634</td>\n",
              "      <td>203.000000</td>\n",
              "      <td>126.362364</td>\n",
              "      <td>62.000000</td>\n",
              "      <td>4.000000</td>\n",
              "      <td>4.661090</td>\n",
              "      <td>95.000000</td>\n",
              "    </tr>\n",
              "    <tr>\n",
              "      <th>max</th>\n",
              "      <td>74.000000</td>\n",
              "      <td>2.000000</td>\n",
              "      <td>35.009773</td>\n",
              "      <td>125.034523</td>\n",
              "      <td>300.000000</td>\n",
              "      <td>242.543865</td>\n",
              "      <td>98.000000</td>\n",
              "      <td>9.000000</td>\n",
              "      <td>6.095211</td>\n",
              "      <td>117.000000</td>\n",
              "    </tr>\n",
              "  </tbody>\n",
              "</table>\n",
              "</div>\n",
              "      <button class=\"colab-df-convert\" onclick=\"convertToInteractive('df-8e020e70-80bf-4096-b118-be11137f0808')\"\n",
              "              title=\"Convert this dataframe to an interactive table.\"\n",
              "              style=\"display:none;\">\n",
              "        \n",
              "  <svg xmlns=\"http://www.w3.org/2000/svg\" height=\"24px\"viewBox=\"0 0 24 24\"\n",
              "       width=\"24px\">\n",
              "    <path d=\"M0 0h24v24H0V0z\" fill=\"none\"/>\n",
              "    <path d=\"M18.56 5.44l.94 2.06.94-2.06 2.06-.94-2.06-.94-.94-2.06-.94 2.06-2.06.94zm-11 1L8.5 8.5l.94-2.06 2.06-.94-2.06-.94L8.5 2.5l-.94 2.06-2.06.94zm10 10l.94 2.06.94-2.06 2.06-.94-2.06-.94-.94-2.06-.94 2.06-2.06.94z\"/><path d=\"M17.41 7.96l-1.37-1.37c-.4-.4-.92-.59-1.43-.59-.52 0-1.04.2-1.43.59L10.3 9.45l-7.72 7.72c-.78.78-.78 2.05 0 2.83L4 21.41c.39.39.9.59 1.41.59.51 0 1.02-.2 1.41-.59l7.78-7.78 2.81-2.81c.8-.78.8-2.07 0-2.86zM5.41 20L4 18.59l7.72-7.72 1.47 1.35L5.41 20z\"/>\n",
              "  </svg>\n",
              "      </button>\n",
              "      \n",
              "  <style>\n",
              "    .colab-df-container {\n",
              "      display:flex;\n",
              "      flex-wrap:wrap;\n",
              "      gap: 12px;\n",
              "    }\n",
              "\n",
              "    .colab-df-convert {\n",
              "      background-color: #E8F0FE;\n",
              "      border: none;\n",
              "      border-radius: 50%;\n",
              "      cursor: pointer;\n",
              "      display: none;\n",
              "      fill: #1967D2;\n",
              "      height: 32px;\n",
              "      padding: 0 0 0 0;\n",
              "      width: 32px;\n",
              "    }\n",
              "\n",
              "    .colab-df-convert:hover {\n",
              "      background-color: #E2EBFA;\n",
              "      box-shadow: 0px 1px 2px rgba(60, 64, 67, 0.3), 0px 1px 3px 1px rgba(60, 64, 67, 0.15);\n",
              "      fill: #174EA6;\n",
              "    }\n",
              "\n",
              "    [theme=dark] .colab-df-convert {\n",
              "      background-color: #3B4455;\n",
              "      fill: #D2E3FC;\n",
              "    }\n",
              "\n",
              "    [theme=dark] .colab-df-convert:hover {\n",
              "      background-color: #434B5C;\n",
              "      box-shadow: 0px 1px 3px 1px rgba(0, 0, 0, 0.15);\n",
              "      filter: drop-shadow(0px 1px 2px rgba(0, 0, 0, 0.3));\n",
              "      fill: #FFFFFF;\n",
              "    }\n",
              "  </style>\n",
              "\n",
              "      <script>\n",
              "        const buttonEl =\n",
              "          document.querySelector('#df-8e020e70-80bf-4096-b118-be11137f0808 button.colab-df-convert');\n",
              "        buttonEl.style.display =\n",
              "          google.colab.kernel.accessAllowed ? 'block' : 'none';\n",
              "\n",
              "        async function convertToInteractive(key) {\n",
              "          const element = document.querySelector('#df-8e020e70-80bf-4096-b118-be11137f0808');\n",
              "          const dataTable =\n",
              "            await google.colab.kernel.invokeFunction('convertToInteractive',\n",
              "                                                     [key], {});\n",
              "          if (!dataTable) return;\n",
              "\n",
              "          const docLinkHtml = 'Like what you see? Visit the ' +\n",
              "            '<a target=\"_blank\" href=https://colab.research.google.com/notebooks/data_table.ipynb>data table notebook</a>'\n",
              "            + ' to learn more about interactive tables.';\n",
              "          element.innerHTML = '';\n",
              "          dataTable['output_type'] = 'display_data';\n",
              "          await google.colab.output.renderOutput(dataTable, element);\n",
              "          const docLink = document.createElement('div');\n",
              "          docLink.innerHTML = docLinkHtml;\n",
              "          element.appendChild(docLink);\n",
              "        }\n",
              "      </script>\n",
              "    </div>\n",
              "  </div>\n",
              "  "
            ]
          },
          "metadata": {},
          "execution_count": 15
        }
      ]
    },
    {
      "cell_type": "code",
      "source": [
        "calcula_estatisticas(c0[\"bmi\"])"
      ],
      "metadata": {
        "colab": {
          "base_uri": "https://localhost:8080/"
        },
        "id": "T0HHqDAlN31f",
        "outputId": "de5185d2-58e3-4240-c6a5-9a05226deea9"
      },
      "execution_count": 16,
      "outputs": [
        {
          "output_type": "stream",
          "name": "stdout",
          "text": [
            "Media: 24.56\n",
            "Moda: 24.1\n",
            "Mediana: 22.1\n",
            "Variância: 12.65\n",
            "Desvio Padrão: 3.56\n",
            "Coeficiente Person: 0.62\n",
            "Coeficiente de Kurtosi: 0.03\n"
          ]
        }
      ]
    },
    {
      "cell_type": "code",
      "source": [
        "calcula_estatisticas(c0[\"bp\"])"
      ],
      "metadata": {
        "colab": {
          "base_uri": "https://localhost:8080/"
        },
        "id": "W4LxRjxvN34L",
        "outputId": "8bf509d7-0ee4-4c78-d4bb-b642680fc306"
      },
      "execution_count": 17,
      "outputs": [
        {
          "output_type": "stream",
          "name": "stdout",
          "text": [
            "Media: 89.81\n",
            "Moda: 87.99\n",
            "Mediana: 86.99\n",
            "Variância: 139.31\n",
            "Desvio Padrão: 11.8\n",
            "Coeficiente Person: 0.42\n",
            "Coeficiente de Kurtosi: 0.06\n"
          ]
        }
      ]
    },
    {
      "cell_type": "code",
      "source": [
        "calcula_estatisticas(c0[\"s2\"])"
      ],
      "metadata": {
        "colab": {
          "base_uri": "https://localhost:8080/"
        },
        "id": "eVWmG2DTPajP",
        "outputId": "8407011b-95ae-40c1-f160-a7aa4700a584"
      },
      "execution_count": 18,
      "outputs": [
        {
          "output_type": "stream",
          "name": "stdout",
          "text": [
            "Media: 111.68\n",
            "Moda: 107.49\n",
            "Mediana: 114.8\n",
            "Variância: 897.79\n",
            "Desvio Padrão: 29.96\n",
            "Coeficiente Person: 0.63\n",
            "Coeficiente de Kurtosi: 1.18\n"
          ]
        }
      ]
    },
    {
      "cell_type": "code",
      "source": [
        "calcula_estatisticas(c0[\"s3\"])"
      ],
      "metadata": {
        "colab": {
          "base_uri": "https://localhost:8080/"
        },
        "id": "7S0yNoPaPamp",
        "outputId": "a0610b96-df48-4134-819d-81066b8a08c8"
      },
      "execution_count": 19,
      "outputs": [
        {
          "output_type": "stream",
          "name": "stdout",
          "text": [
            "Media: 53.6\n",
            "Moda: 53.0\n",
            "Mediana: 46.0\n",
            "Variância: 182.16\n",
            "Desvio Padrão: 13.5\n",
            "Coeficiente Person: 0.54\n",
            "Coeficiente de Kurtosi: 0.43\n"
          ]
        }
      ]
    },
    {
      "cell_type": "code",
      "source": [
        "calcula_estatisticas(c0[\"s4\"])"
      ],
      "metadata": {
        "colab": {
          "base_uri": "https://localhost:8080/"
        },
        "id": "2l5PKxr0N3-Z",
        "outputId": "a4669232-889e-4609-ead8-b80a5ffffddf"
      },
      "execution_count": 20,
      "outputs": [
        {
          "output_type": "stream",
          "name": "stdout",
          "text": [
            "Media: 3.67\n",
            "Moda: 3.0\n",
            "Mediana: 3.0\n",
            "Variância: 1.35\n",
            "Desvio Padrão: 1.16\n",
            "Coeficiente Person: 1.0\n",
            "Coeficiente de Kurtosi: 1.44\n"
          ]
        }
      ]
    },
    {
      "cell_type": "code",
      "source": [
        ""
      ],
      "metadata": {
        "id": "ajOZXbOVPckq"
      },
      "execution_count": null,
      "outputs": []
    },
    {
      "cell_type": "code",
      "source": [
        ""
      ],
      "metadata": {
        "id": "2A6qveuvPcoF"
      },
      "execution_count": null,
      "outputs": []
    },
    {
      "cell_type": "markdown",
      "source": [
        "*   Faixa c1"
      ],
      "metadata": {
        "id": "45gQiCP6NgWy"
      }
    },
    {
      "cell_type": "code",
      "source": [
        "c1.describe()"
      ],
      "metadata": {
        "id": "1iPw4IATcV8l",
        "colab": {
          "base_uri": "https://localhost:8080/",
          "height": 300
        },
        "outputId": "ab698e9f-c4fe-4e1d-dc0c-0da1bab42762"
      },
      "execution_count": 21,
      "outputs": [
        {
          "output_type": "execute_result",
          "data": {
            "text/plain": [
              "              age         sex         bmi          bp          s1          s2  \\\n",
              "count  135.000000  135.000000  135.000000  135.000000  135.000000  135.000000   \n",
              "mean    50.214815    1.481481   27.358891   97.983998  196.933333  121.031515   \n",
              "std     13.558268    0.501518    3.913097   13.341279   35.880648   30.975797   \n",
              "min     19.000000    1.000000   19.892662   70.973024   97.000000   43.318369   \n",
              "25%     40.000000    1.000000   24.597988   88.492954  175.000000   99.281712   \n",
              "50%     52.000000    1.000000   27.200934   98.003773  199.000000  125.010834   \n",
              "75%     61.000000    2.000000   30.004107  109.016301  220.000000  142.230324   \n",
              "max     79.000000    2.000000   42.217931  133.043634  301.000000  215.112817   \n",
              "\n",
              "               s3          s4          s5          s6  \n",
              "count  135.000000  135.000000  135.000000  135.000000  \n",
              "mean    46.311111    4.481481    4.870415   92.970370  \n",
              "std     10.781733    1.297827    0.499895   10.627296  \n",
              "min     25.000000    2.000000    3.495210   69.000000  \n",
              "25%     38.500000    3.500000    4.527063   86.500000  \n",
              "50%     46.000000    4.000000    4.860058   93.000000  \n",
              "75%     52.000000    5.000000    5.168034   98.500000  \n",
              "max     99.000000    8.000000    6.108680  124.000000  "
            ],
            "text/html": [
              "\n",
              "  <div id=\"df-7c1a6efe-734c-40f5-a15a-5b60b9a2e23b\">\n",
              "    <div class=\"colab-df-container\">\n",
              "      <div>\n",
              "<style scoped>\n",
              "    .dataframe tbody tr th:only-of-type {\n",
              "        vertical-align: middle;\n",
              "    }\n",
              "\n",
              "    .dataframe tbody tr th {\n",
              "        vertical-align: top;\n",
              "    }\n",
              "\n",
              "    .dataframe thead th {\n",
              "        text-align: right;\n",
              "    }\n",
              "</style>\n",
              "<table border=\"1\" class=\"dataframe\">\n",
              "  <thead>\n",
              "    <tr style=\"text-align: right;\">\n",
              "      <th></th>\n",
              "      <th>age</th>\n",
              "      <th>sex</th>\n",
              "      <th>bmi</th>\n",
              "      <th>bp</th>\n",
              "      <th>s1</th>\n",
              "      <th>s2</th>\n",
              "      <th>s3</th>\n",
              "      <th>s4</th>\n",
              "      <th>s5</th>\n",
              "      <th>s6</th>\n",
              "    </tr>\n",
              "  </thead>\n",
              "  <tbody>\n",
              "    <tr>\n",
              "      <th>count</th>\n",
              "      <td>135.000000</td>\n",
              "      <td>135.000000</td>\n",
              "      <td>135.000000</td>\n",
              "      <td>135.000000</td>\n",
              "      <td>135.000000</td>\n",
              "      <td>135.000000</td>\n",
              "      <td>135.000000</td>\n",
              "      <td>135.000000</td>\n",
              "      <td>135.000000</td>\n",
              "      <td>135.000000</td>\n",
              "    </tr>\n",
              "    <tr>\n",
              "      <th>mean</th>\n",
              "      <td>50.214815</td>\n",
              "      <td>1.481481</td>\n",
              "      <td>27.358891</td>\n",
              "      <td>97.983998</td>\n",
              "      <td>196.933333</td>\n",
              "      <td>121.031515</td>\n",
              "      <td>46.311111</td>\n",
              "      <td>4.481481</td>\n",
              "      <td>4.870415</td>\n",
              "      <td>92.970370</td>\n",
              "    </tr>\n",
              "    <tr>\n",
              "      <th>std</th>\n",
              "      <td>13.558268</td>\n",
              "      <td>0.501518</td>\n",
              "      <td>3.913097</td>\n",
              "      <td>13.341279</td>\n",
              "      <td>35.880648</td>\n",
              "      <td>30.975797</td>\n",
              "      <td>10.781733</td>\n",
              "      <td>1.297827</td>\n",
              "      <td>0.499895</td>\n",
              "      <td>10.627296</td>\n",
              "    </tr>\n",
              "    <tr>\n",
              "      <th>min</th>\n",
              "      <td>19.000000</td>\n",
              "      <td>1.000000</td>\n",
              "      <td>19.892662</td>\n",
              "      <td>70.973024</td>\n",
              "      <td>97.000000</td>\n",
              "      <td>43.318369</td>\n",
              "      <td>25.000000</td>\n",
              "      <td>2.000000</td>\n",
              "      <td>3.495210</td>\n",
              "      <td>69.000000</td>\n",
              "    </tr>\n",
              "    <tr>\n",
              "      <th>25%</th>\n",
              "      <td>40.000000</td>\n",
              "      <td>1.000000</td>\n",
              "      <td>24.597988</td>\n",
              "      <td>88.492954</td>\n",
              "      <td>175.000000</td>\n",
              "      <td>99.281712</td>\n",
              "      <td>38.500000</td>\n",
              "      <td>3.500000</td>\n",
              "      <td>4.527063</td>\n",
              "      <td>86.500000</td>\n",
              "    </tr>\n",
              "    <tr>\n",
              "      <th>50%</th>\n",
              "      <td>52.000000</td>\n",
              "      <td>1.000000</td>\n",
              "      <td>27.200934</td>\n",
              "      <td>98.003773</td>\n",
              "      <td>199.000000</td>\n",
              "      <td>125.010834</td>\n",
              "      <td>46.000000</td>\n",
              "      <td>4.000000</td>\n",
              "      <td>4.860058</td>\n",
              "      <td>93.000000</td>\n",
              "    </tr>\n",
              "    <tr>\n",
              "      <th>75%</th>\n",
              "      <td>61.000000</td>\n",
              "      <td>2.000000</td>\n",
              "      <td>30.004107</td>\n",
              "      <td>109.016301</td>\n",
              "      <td>220.000000</td>\n",
              "      <td>142.230324</td>\n",
              "      <td>52.000000</td>\n",
              "      <td>5.000000</td>\n",
              "      <td>5.168034</td>\n",
              "      <td>98.500000</td>\n",
              "    </tr>\n",
              "    <tr>\n",
              "      <th>max</th>\n",
              "      <td>79.000000</td>\n",
              "      <td>2.000000</td>\n",
              "      <td>42.217931</td>\n",
              "      <td>133.043634</td>\n",
              "      <td>301.000000</td>\n",
              "      <td>215.112817</td>\n",
              "      <td>99.000000</td>\n",
              "      <td>8.000000</td>\n",
              "      <td>6.108680</td>\n",
              "      <td>124.000000</td>\n",
              "    </tr>\n",
              "  </tbody>\n",
              "</table>\n",
              "</div>\n",
              "      <button class=\"colab-df-convert\" onclick=\"convertToInteractive('df-7c1a6efe-734c-40f5-a15a-5b60b9a2e23b')\"\n",
              "              title=\"Convert this dataframe to an interactive table.\"\n",
              "              style=\"display:none;\">\n",
              "        \n",
              "  <svg xmlns=\"http://www.w3.org/2000/svg\" height=\"24px\"viewBox=\"0 0 24 24\"\n",
              "       width=\"24px\">\n",
              "    <path d=\"M0 0h24v24H0V0z\" fill=\"none\"/>\n",
              "    <path d=\"M18.56 5.44l.94 2.06.94-2.06 2.06-.94-2.06-.94-.94-2.06-.94 2.06-2.06.94zm-11 1L8.5 8.5l.94-2.06 2.06-.94-2.06-.94L8.5 2.5l-.94 2.06-2.06.94zm10 10l.94 2.06.94-2.06 2.06-.94-2.06-.94-.94-2.06-.94 2.06-2.06.94z\"/><path d=\"M17.41 7.96l-1.37-1.37c-.4-.4-.92-.59-1.43-.59-.52 0-1.04.2-1.43.59L10.3 9.45l-7.72 7.72c-.78.78-.78 2.05 0 2.83L4 21.41c.39.39.9.59 1.41.59.51 0 1.02-.2 1.41-.59l7.78-7.78 2.81-2.81c.8-.78.8-2.07 0-2.86zM5.41 20L4 18.59l7.72-7.72 1.47 1.35L5.41 20z\"/>\n",
              "  </svg>\n",
              "      </button>\n",
              "      \n",
              "  <style>\n",
              "    .colab-df-container {\n",
              "      display:flex;\n",
              "      flex-wrap:wrap;\n",
              "      gap: 12px;\n",
              "    }\n",
              "\n",
              "    .colab-df-convert {\n",
              "      background-color: #E8F0FE;\n",
              "      border: none;\n",
              "      border-radius: 50%;\n",
              "      cursor: pointer;\n",
              "      display: none;\n",
              "      fill: #1967D2;\n",
              "      height: 32px;\n",
              "      padding: 0 0 0 0;\n",
              "      width: 32px;\n",
              "    }\n",
              "\n",
              "    .colab-df-convert:hover {\n",
              "      background-color: #E2EBFA;\n",
              "      box-shadow: 0px 1px 2px rgba(60, 64, 67, 0.3), 0px 1px 3px 1px rgba(60, 64, 67, 0.15);\n",
              "      fill: #174EA6;\n",
              "    }\n",
              "\n",
              "    [theme=dark] .colab-df-convert {\n",
              "      background-color: #3B4455;\n",
              "      fill: #D2E3FC;\n",
              "    }\n",
              "\n",
              "    [theme=dark] .colab-df-convert:hover {\n",
              "      background-color: #434B5C;\n",
              "      box-shadow: 0px 1px 3px 1px rgba(0, 0, 0, 0.15);\n",
              "      filter: drop-shadow(0px 1px 2px rgba(0, 0, 0, 0.3));\n",
              "      fill: #FFFFFF;\n",
              "    }\n",
              "  </style>\n",
              "\n",
              "      <script>\n",
              "        const buttonEl =\n",
              "          document.querySelector('#df-7c1a6efe-734c-40f5-a15a-5b60b9a2e23b button.colab-df-convert');\n",
              "        buttonEl.style.display =\n",
              "          google.colab.kernel.accessAllowed ? 'block' : 'none';\n",
              "\n",
              "        async function convertToInteractive(key) {\n",
              "          const element = document.querySelector('#df-7c1a6efe-734c-40f5-a15a-5b60b9a2e23b');\n",
              "          const dataTable =\n",
              "            await google.colab.kernel.invokeFunction('convertToInteractive',\n",
              "                                                     [key], {});\n",
              "          if (!dataTable) return;\n",
              "\n",
              "          const docLinkHtml = 'Like what you see? Visit the ' +\n",
              "            '<a target=\"_blank\" href=https://colab.research.google.com/notebooks/data_table.ipynb>data table notebook</a>'\n",
              "            + ' to learn more about interactive tables.';\n",
              "          element.innerHTML = '';\n",
              "          dataTable['output_type'] = 'display_data';\n",
              "          await google.colab.output.renderOutput(dataTable, element);\n",
              "          const docLink = document.createElement('div');\n",
              "          docLink.innerHTML = docLinkHtml;\n",
              "          element.appendChild(docLink);\n",
              "        }\n",
              "      </script>\n",
              "    </div>\n",
              "  </div>\n",
              "  "
            ]
          },
          "metadata": {},
          "execution_count": 21
        }
      ]
    },
    {
      "cell_type": "code",
      "source": [
        "calcula_estatisticas(c1[\"bmi\"])"
      ],
      "metadata": {
        "colab": {
          "base_uri": "https://localhost:8080/"
        },
        "id": "c-LPllT_OKSL",
        "outputId": "beb37e79-c74a-451f-a22a-b7401749f435"
      },
      "execution_count": 22,
      "outputs": [
        {
          "output_type": "stream",
          "name": "stdout",
          "text": [
            "Media: 27.36\n",
            "Moda: 27.2\n",
            "Mediana: 25.3\n",
            "Variância: 15.2\n",
            "Desvio Padrão: 3.9\n",
            "Coeficiente Person: 0.61\n",
            "Coeficiente de Kurtosi: 0.89\n"
          ]
        }
      ]
    },
    {
      "cell_type": "code",
      "source": [
        "calcula_estatisticas(c1[\"bp\"])"
      ],
      "metadata": {
        "colab": {
          "base_uri": "https://localhost:8080/"
        },
        "id": "feZg3WfWOKVL",
        "outputId": "99a1ce56-ddf4-4511-eb71-24d53879b8c8"
      },
      "execution_count": 23,
      "outputs": [
        {
          "output_type": "stream",
          "name": "stdout",
          "text": [
            "Media: 97.98\n",
            "Moda: 98.0\n",
            "Mediana: 109.02\n",
            "Variância: 176.67\n",
            "Desvio Padrão: 13.29\n",
            "Coeficiente Person: 0.08\n",
            "Coeficiente de Kurtosi: -0.52\n"
          ]
        }
      ]
    },
    {
      "cell_type": "code",
      "source": [
        "calcula_estatisticas(c1[\"s2\"])"
      ],
      "metadata": {
        "colab": {
          "base_uri": "https://localhost:8080/"
        },
        "id": "YupAAdSWO8W2",
        "outputId": "f295bf2e-1f06-4e3d-aa76-67b02630dd29"
      },
      "execution_count": 24,
      "outputs": [
        {
          "output_type": "stream",
          "name": "stdout",
          "text": [
            "Media: 121.03\n",
            "Moda: 125.01\n",
            "Mediana: 85.17\n",
            "Variância: 952.39\n",
            "Desvio Padrão: 30.86\n",
            "Coeficiente Person: 0.11\n",
            "Coeficiente de Kurtosi: 0.1\n"
          ]
        }
      ]
    },
    {
      "cell_type": "code",
      "source": [
        "calcula_estatisticas(c1[\"s3\"])"
      ],
      "metadata": {
        "colab": {
          "base_uri": "https://localhost:8080/"
        },
        "id": "Q-xuUsUsPkJf",
        "outputId": "5960072b-39b4-493e-e366-d371589368fc"
      },
      "execution_count": 25,
      "outputs": [
        {
          "output_type": "stream",
          "name": "stdout",
          "text": [
            "Media: 46.31\n",
            "Moda: 46.0\n",
            "Mediana: 38.0\n",
            "Variância: 115.38\n",
            "Desvio Padrão: 10.74\n",
            "Coeficiente Person: 1.19\n",
            "Coeficiente de Kurtosi: 3.34\n"
          ]
        }
      ]
    },
    {
      "cell_type": "code",
      "source": [
        "calcula_estatisticas(c1[\"s4\"])"
      ],
      "metadata": {
        "colab": {
          "base_uri": "https://localhost:8080/"
        },
        "id": "i32o610ZPkMX",
        "outputId": "05aea377-84a9-4445-aa43-dcfe42e67ade"
      },
      "execution_count": 26,
      "outputs": [
        {
          "output_type": "stream",
          "name": "stdout",
          "text": [
            "Media: 4.48\n",
            "Moda: 4.0\n",
            "Mediana: 4.0\n",
            "Variância: 1.67\n",
            "Desvio Padrão: 1.29\n",
            "Coeficiente Person: 0.53\n",
            "Coeficiente de Kurtosi: -0.09\n"
          ]
        }
      ]
    },
    {
      "cell_type": "code",
      "source": [
        ""
      ],
      "metadata": {
        "id": "1ue7T03HPkPw"
      },
      "execution_count": null,
      "outputs": []
    },
    {
      "cell_type": "code",
      "source": [
        ""
      ],
      "metadata": {
        "id": "uq5k76rtPkUZ"
      },
      "execution_count": null,
      "outputs": []
    },
    {
      "cell_type": "code",
      "source": [
        ""
      ],
      "metadata": {
        "id": "-p7K4JfYO8aa"
      },
      "execution_count": null,
      "outputs": []
    },
    {
      "cell_type": "markdown",
      "source": [
        "*   Faixa c2"
      ],
      "metadata": {
        "id": "wdJq55EpNhv8"
      }
    },
    {
      "cell_type": "code",
      "source": [
        "c2.describe()"
      ],
      "metadata": {
        "id": "6abR1P5icVh6",
        "colab": {
          "base_uri": "https://localhost:8080/",
          "height": 300
        },
        "outputId": "c9d3b054-9e65-410c-98ec-c31fa39aa67c"
      },
      "execution_count": 27,
      "outputs": [
        {
          "output_type": "execute_result",
          "data": {
            "text/plain": [
              "             age        sex        bmi          bp          s1          s2  \\\n",
              "count  65.000000  65.000000  65.000000   65.000000   65.000000   65.000000   \n",
              "mean   51.876923   1.476923  31.076089  105.730512  193.892308  117.802675   \n",
              "std    10.698288   0.503354   4.245078   13.601008   33.117274   29.313954   \n",
              "min    23.000000   1.000000  20.993908   77.980996  113.000000   50.926981   \n",
              "25%    44.000000   1.000000  28.101954   93.999218  171.000000   98.380692   \n",
              "50%    53.000000   1.000000  31.605920  110.017440  187.000000  112.396556   \n",
              "75%    58.000000   2.000000  34.308979  115.023134  214.000000  131.418086   \n",
              "max    79.000000   2.000000  41.316911  131.041356  282.000000  197.292647   \n",
              "\n",
              "              s3         s4         s5          s6  \n",
              "count  65.000000  65.000000  65.000000   65.000000  \n",
              "mean   42.830769   4.753846   5.041303   99.923077  \n",
              "std     9.551782   1.225137   0.377924   11.767683  \n",
              "min    22.000000   2.000000   4.317120   71.000000  \n",
              "25%    37.000000   4.000000   4.804203   90.000000  \n",
              "50%    42.000000   5.000000   5.011051  100.000000  \n",
              "75%    47.000000   5.000000   5.294041  109.000000  \n",
              "max    67.000000   8.000000   6.070039  124.000000  "
            ],
            "text/html": [
              "\n",
              "  <div id=\"df-bda8928f-acdf-4470-80f0-2f06c4ed75ab\">\n",
              "    <div class=\"colab-df-container\">\n",
              "      <div>\n",
              "<style scoped>\n",
              "    .dataframe tbody tr th:only-of-type {\n",
              "        vertical-align: middle;\n",
              "    }\n",
              "\n",
              "    .dataframe tbody tr th {\n",
              "        vertical-align: top;\n",
              "    }\n",
              "\n",
              "    .dataframe thead th {\n",
              "        text-align: right;\n",
              "    }\n",
              "</style>\n",
              "<table border=\"1\" class=\"dataframe\">\n",
              "  <thead>\n",
              "    <tr style=\"text-align: right;\">\n",
              "      <th></th>\n",
              "      <th>age</th>\n",
              "      <th>sex</th>\n",
              "      <th>bmi</th>\n",
              "      <th>bp</th>\n",
              "      <th>s1</th>\n",
              "      <th>s2</th>\n",
              "      <th>s3</th>\n",
              "      <th>s4</th>\n",
              "      <th>s5</th>\n",
              "      <th>s6</th>\n",
              "    </tr>\n",
              "  </thead>\n",
              "  <tbody>\n",
              "    <tr>\n",
              "      <th>count</th>\n",
              "      <td>65.000000</td>\n",
              "      <td>65.000000</td>\n",
              "      <td>65.000000</td>\n",
              "      <td>65.000000</td>\n",
              "      <td>65.000000</td>\n",
              "      <td>65.000000</td>\n",
              "      <td>65.000000</td>\n",
              "      <td>65.000000</td>\n",
              "      <td>65.000000</td>\n",
              "      <td>65.000000</td>\n",
              "    </tr>\n",
              "    <tr>\n",
              "      <th>mean</th>\n",
              "      <td>51.876923</td>\n",
              "      <td>1.476923</td>\n",
              "      <td>31.076089</td>\n",
              "      <td>105.730512</td>\n",
              "      <td>193.892308</td>\n",
              "      <td>117.802675</td>\n",
              "      <td>42.830769</td>\n",
              "      <td>4.753846</td>\n",
              "      <td>5.041303</td>\n",
              "      <td>99.923077</td>\n",
              "    </tr>\n",
              "    <tr>\n",
              "      <th>std</th>\n",
              "      <td>10.698288</td>\n",
              "      <td>0.503354</td>\n",
              "      <td>4.245078</td>\n",
              "      <td>13.601008</td>\n",
              "      <td>33.117274</td>\n",
              "      <td>29.313954</td>\n",
              "      <td>9.551782</td>\n",
              "      <td>1.225137</td>\n",
              "      <td>0.377924</td>\n",
              "      <td>11.767683</td>\n",
              "    </tr>\n",
              "    <tr>\n",
              "      <th>min</th>\n",
              "      <td>23.000000</td>\n",
              "      <td>1.000000</td>\n",
              "      <td>20.993908</td>\n",
              "      <td>77.980996</td>\n",
              "      <td>113.000000</td>\n",
              "      <td>50.926981</td>\n",
              "      <td>22.000000</td>\n",
              "      <td>2.000000</td>\n",
              "      <td>4.317120</td>\n",
              "      <td>71.000000</td>\n",
              "    </tr>\n",
              "    <tr>\n",
              "      <th>25%</th>\n",
              "      <td>44.000000</td>\n",
              "      <td>1.000000</td>\n",
              "      <td>28.101954</td>\n",
              "      <td>93.999218</td>\n",
              "      <td>171.000000</td>\n",
              "      <td>98.380692</td>\n",
              "      <td>37.000000</td>\n",
              "      <td>4.000000</td>\n",
              "      <td>4.804203</td>\n",
              "      <td>90.000000</td>\n",
              "    </tr>\n",
              "    <tr>\n",
              "      <th>50%</th>\n",
              "      <td>53.000000</td>\n",
              "      <td>1.000000</td>\n",
              "      <td>31.605920</td>\n",
              "      <td>110.017440</td>\n",
              "      <td>187.000000</td>\n",
              "      <td>112.396556</td>\n",
              "      <td>42.000000</td>\n",
              "      <td>5.000000</td>\n",
              "      <td>5.011051</td>\n",
              "      <td>100.000000</td>\n",
              "    </tr>\n",
              "    <tr>\n",
              "      <th>75%</th>\n",
              "      <td>58.000000</td>\n",
              "      <td>2.000000</td>\n",
              "      <td>34.308979</td>\n",
              "      <td>115.023134</td>\n",
              "      <td>214.000000</td>\n",
              "      <td>131.418086</td>\n",
              "      <td>47.000000</td>\n",
              "      <td>5.000000</td>\n",
              "      <td>5.294041</td>\n",
              "      <td>109.000000</td>\n",
              "    </tr>\n",
              "    <tr>\n",
              "      <th>max</th>\n",
              "      <td>79.000000</td>\n",
              "      <td>2.000000</td>\n",
              "      <td>41.316911</td>\n",
              "      <td>131.041356</td>\n",
              "      <td>282.000000</td>\n",
              "      <td>197.292647</td>\n",
              "      <td>67.000000</td>\n",
              "      <td>8.000000</td>\n",
              "      <td>6.070039</td>\n",
              "      <td>124.000000</td>\n",
              "    </tr>\n",
              "  </tbody>\n",
              "</table>\n",
              "</div>\n",
              "      <button class=\"colab-df-convert\" onclick=\"convertToInteractive('df-bda8928f-acdf-4470-80f0-2f06c4ed75ab')\"\n",
              "              title=\"Convert this dataframe to an interactive table.\"\n",
              "              style=\"display:none;\">\n",
              "        \n",
              "  <svg xmlns=\"http://www.w3.org/2000/svg\" height=\"24px\"viewBox=\"0 0 24 24\"\n",
              "       width=\"24px\">\n",
              "    <path d=\"M0 0h24v24H0V0z\" fill=\"none\"/>\n",
              "    <path d=\"M18.56 5.44l.94 2.06.94-2.06 2.06-.94-2.06-.94-.94-2.06-.94 2.06-2.06.94zm-11 1L8.5 8.5l.94-2.06 2.06-.94-2.06-.94L8.5 2.5l-.94 2.06-2.06.94zm10 10l.94 2.06.94-2.06 2.06-.94-2.06-.94-.94-2.06-.94 2.06-2.06.94z\"/><path d=\"M17.41 7.96l-1.37-1.37c-.4-.4-.92-.59-1.43-.59-.52 0-1.04.2-1.43.59L10.3 9.45l-7.72 7.72c-.78.78-.78 2.05 0 2.83L4 21.41c.39.39.9.59 1.41.59.51 0 1.02-.2 1.41-.59l7.78-7.78 2.81-2.81c.8-.78.8-2.07 0-2.86zM5.41 20L4 18.59l7.72-7.72 1.47 1.35L5.41 20z\"/>\n",
              "  </svg>\n",
              "      </button>\n",
              "      \n",
              "  <style>\n",
              "    .colab-df-container {\n",
              "      display:flex;\n",
              "      flex-wrap:wrap;\n",
              "      gap: 12px;\n",
              "    }\n",
              "\n",
              "    .colab-df-convert {\n",
              "      background-color: #E8F0FE;\n",
              "      border: none;\n",
              "      border-radius: 50%;\n",
              "      cursor: pointer;\n",
              "      display: none;\n",
              "      fill: #1967D2;\n",
              "      height: 32px;\n",
              "      padding: 0 0 0 0;\n",
              "      width: 32px;\n",
              "    }\n",
              "\n",
              "    .colab-df-convert:hover {\n",
              "      background-color: #E2EBFA;\n",
              "      box-shadow: 0px 1px 2px rgba(60, 64, 67, 0.3), 0px 1px 3px 1px rgba(60, 64, 67, 0.15);\n",
              "      fill: #174EA6;\n",
              "    }\n",
              "\n",
              "    [theme=dark] .colab-df-convert {\n",
              "      background-color: #3B4455;\n",
              "      fill: #D2E3FC;\n",
              "    }\n",
              "\n",
              "    [theme=dark] .colab-df-convert:hover {\n",
              "      background-color: #434B5C;\n",
              "      box-shadow: 0px 1px 3px 1px rgba(0, 0, 0, 0.15);\n",
              "      filter: drop-shadow(0px 1px 2px rgba(0, 0, 0, 0.3));\n",
              "      fill: #FFFFFF;\n",
              "    }\n",
              "  </style>\n",
              "\n",
              "      <script>\n",
              "        const buttonEl =\n",
              "          document.querySelector('#df-bda8928f-acdf-4470-80f0-2f06c4ed75ab button.colab-df-convert');\n",
              "        buttonEl.style.display =\n",
              "          google.colab.kernel.accessAllowed ? 'block' : 'none';\n",
              "\n",
              "        async function convertToInteractive(key) {\n",
              "          const element = document.querySelector('#df-bda8928f-acdf-4470-80f0-2f06c4ed75ab');\n",
              "          const dataTable =\n",
              "            await google.colab.kernel.invokeFunction('convertToInteractive',\n",
              "                                                     [key], {});\n",
              "          if (!dataTable) return;\n",
              "\n",
              "          const docLinkHtml = 'Like what you see? Visit the ' +\n",
              "            '<a target=\"_blank\" href=https://colab.research.google.com/notebooks/data_table.ipynb>data table notebook</a>'\n",
              "            + ' to learn more about interactive tables.';\n",
              "          element.innerHTML = '';\n",
              "          dataTable['output_type'] = 'display_data';\n",
              "          await google.colab.output.renderOutput(dataTable, element);\n",
              "          const docLink = document.createElement('div');\n",
              "          docLink.innerHTML = docLinkHtml;\n",
              "          element.appendChild(docLink);\n",
              "        }\n",
              "      </script>\n",
              "    </div>\n",
              "  </div>\n",
              "  "
            ]
          },
          "metadata": {},
          "execution_count": 27
        }
      ]
    },
    {
      "cell_type": "code",
      "source": [
        "calcula_estatisticas(c2[\"bmi\"])"
      ],
      "metadata": {
        "colab": {
          "base_uri": "https://localhost:8080/"
        },
        "id": "8f9fIoNrNxDh",
        "outputId": "6ff66529-3230-4939-86da-2c30694dbfcf"
      },
      "execution_count": 28,
      "outputs": [
        {
          "output_type": "stream",
          "name": "stdout",
          "text": [
            "Media: 31.08\n",
            "Moda: 31.61\n",
            "Mediana: 31.61\n",
            "Variância: 17.74\n",
            "Desvio Padrão: 4.21\n",
            "Coeficiente Person: -0.01\n",
            "Coeficiente de Kurtosi: -0.47\n"
          ]
        }
      ]
    },
    {
      "cell_type": "code",
      "source": [
        "calcula_estatisticas(c2[\"bp\"])"
      ],
      "metadata": {
        "colab": {
          "base_uri": "https://localhost:8080/"
        },
        "id": "GGrTgxaaNxPa",
        "outputId": "daba84df-21a7-4c94-9c23-d8d92e375e32"
      },
      "execution_count": 29,
      "outputs": [
        {
          "output_type": "stream",
          "name": "stdout",
          "text": [
            "Media: 105.73\n",
            "Moda: 110.02\n",
            "Mediana: 113.02\n",
            "Variância: 182.14\n",
            "Desvio Padrão: 13.5\n",
            "Coeficiente Person: -0.39\n",
            "Coeficiente de Kurtosi: -0.97\n"
          ]
        }
      ]
    },
    {
      "cell_type": "code",
      "source": [
        "calcula_estatisticas(c2[\"s2\"])"
      ],
      "metadata": {
        "colab": {
          "base_uri": "https://localhost:8080/"
        },
        "id": "4LtvlmSXNxU7",
        "outputId": "5fd2be09-7ec9-4c48-888f-48027f0f04a6"
      },
      "execution_count": 30,
      "outputs": [
        {
          "output_type": "stream",
          "name": "stdout",
          "text": [
            "Media: 117.8\n",
            "Moda: 112.4\n",
            "Mediana: 87.97\n",
            "Variância: 846.09\n",
            "Desvio Padrão: 29.09\n",
            "Coeficiente Person: 0.48\n",
            "Coeficiente de Kurtosi: 0.4\n"
          ]
        }
      ]
    },
    {
      "cell_type": "code",
      "source": [
        "calcula_estatisticas(c2[\"s3\"])"
      ],
      "metadata": {
        "colab": {
          "base_uri": "https://localhost:8080/"
        },
        "id": "8Uiw264SNxXm",
        "outputId": "3033eb7d-4e8d-4940-9325-d1d58092bd03"
      },
      "execution_count": 31,
      "outputs": [
        {
          "output_type": "stream",
          "name": "stdout",
          "text": [
            "Media: 42.83\n",
            "Moda: 42.0\n",
            "Mediana: 37.0\n",
            "Variância: 89.83\n",
            "Desvio Padrão: 9.48\n",
            "Coeficiente Person: 0.65\n",
            "Coeficiente de Kurtosi: 0.4\n"
          ]
        }
      ]
    },
    {
      "cell_type": "code",
      "source": [
        "calcula_estatisticas(c2[\"s4\"])"
      ],
      "metadata": {
        "colab": {
          "base_uri": "https://localhost:8080/"
        },
        "id": "-qDIscDaNxad",
        "outputId": "e9ca7851-8cd0-4075-b67c-a9234d7fe20a"
      },
      "execution_count": 32,
      "outputs": [
        {
          "output_type": "stream",
          "name": "stdout",
          "text": [
            "Media: 4.75\n",
            "Moda: 5.0\n",
            "Mediana: 4.0\n",
            "Variância: 1.48\n",
            "Desvio Padrão: 1.22\n",
            "Coeficiente Person: 0.58\n",
            "Coeficiente de Kurtosi: 0.29\n"
          ]
        }
      ]
    },
    {
      "cell_type": "code",
      "source": [
        ""
      ],
      "metadata": {
        "id": "kM2JwSNAPvUj"
      },
      "execution_count": 32,
      "outputs": []
    },
    {
      "cell_type": "code",
      "source": [
        ""
      ],
      "metadata": {
        "id": "s6xTWG87QEJ-"
      },
      "execution_count": null,
      "outputs": []
    },
    {
      "cell_type": "code",
      "source": [
        ""
      ],
      "metadata": {
        "id": "TziTCW-6QEMU"
      },
      "execution_count": null,
      "outputs": []
    },
    {
      "cell_type": "code",
      "source": [
        ""
      ],
      "metadata": {
        "id": "-56djdbpQEPA"
      },
      "execution_count": null,
      "outputs": []
    },
    {
      "cell_type": "markdown",
      "source": [
        "## **Visualizando**"
      ],
      "metadata": {
        "id": "VMRDpG4kQVMh"
      }
    },
    {
      "cell_type": "code",
      "source": [
        "sns.displot(data=new, x=\"bmi\", hue=\"Progression\", kind=\"kde\")"
      ],
      "metadata": {
        "colab": {
          "base_uri": "https://localhost:8080/",
          "height": 386
        },
        "id": "L5GoqRiiQERZ",
        "outputId": "d89e8eeb-84c1-4370-cbaf-cd62f6f5df3d"
      },
      "execution_count": 33,
      "outputs": [
        {
          "output_type": "execute_result",
          "data": {
            "text/plain": [
              "<seaborn.axisgrid.FacetGrid at 0x7f73340acfd0>"
            ]
          },
          "metadata": {},
          "execution_count": 33
        },
        {
          "output_type": "display_data",
          "data": {
            "text/plain": [
              "<Figure size 425.875x360 with 1 Axes>"
            ],
            "image/png": "[encoded data removed]"
          },
          "metadata": {
            "needs_background": "light"
          }
        }
      ]
    },
    {
      "cell_type": "code",
      "source": [
        "sns.displot(data=new, x=\"bp\", hue=\"Progression\", kind=\"kde\")"
      ],
      "metadata": {
        "colab": {
          "base_uri": "https://localhost:8080/",
          "height": 386
        },
        "id": "7ZuiTzsqQEUB",
        "outputId": "f7524902-e89e-4422-a014-b86b84dc4f2d"
      },
      "execution_count": 34,
      "outputs": [
        {
          "output_type": "execute_result",
          "data": {
            "text/plain": [
              "<seaborn.axisgrid.FacetGrid at 0x7f732df2c710>"
            ]
          },
          "metadata": {},
          "execution_count": 34
        },
        {
          "output_type": "display_data",
          "data": {
            "text/plain": [
              "<Figure size 425.875x360 with 1 Axes>"
            ],
            "image/png": "[encoded data removed]"
          },
          "metadata": {
            "needs_background": "light"
          }
        }
      ]
    },
    {
      "cell_type": "code",
      "source": [
        "sns.displot(data=new, x=\"s3\", hue=\"Progression\", kind=\"kde\")"
      ],
      "metadata": {
        "colab": {
          "base_uri": "https://localhost:8080/",
          "height": 386
        },
        "id": "9C3CZCQGQEWO",
        "outputId": "12f1a0a4-b60d-4743-a6c3-a7dfb89341c0"
      },
      "execution_count": 35,
      "outputs": [
        {
          "output_type": "execute_result",
          "data": {
            "text/plain": [
              "<seaborn.axisgrid.FacetGrid at 0x7f732dee7850>"
            ]
          },
          "metadata": {},
          "execution_count": 35
        },
        {
          "output_type": "display_data",
          "data": {
            "text/plain": [
              "<Figure size 425.875x360 with 1 Axes>"
            ],
            "image/png": "[encoded data removed]"
          },
          "metadata": {
            "needs_background": "light"
          }
        }
      ]
    },
    {
      "cell_type": "code",
      "source": [
        "sns.displot(data=new, x=\"s5\", hue=\"Progression\", kind=\"kde\")"
      ],
      "metadata": {
        "colab": {
          "base_uri": "https://localhost:8080/",
          "height": 386
        },
        "id": "lhNXBnhhQEYm",
        "outputId": "eb8ac8a2-d03a-4292-d996-a285b3c990f4"
      },
      "execution_count": 36,
      "outputs": [
        {
          "output_type": "execute_result",
          "data": {
            "text/plain": [
              "<seaborn.axisgrid.FacetGrid at 0x7f732de96490>"
            ]
          },
          "metadata": {},
          "execution_count": 36
        },
        {
          "output_type": "display_data",
          "data": {
            "text/plain": [
              "<Figure size 425.875x360 with 1 Axes>"
            ],
            "image/png": "[encoded data removed]"
          },
          "metadata": {
            "needs_background": "light"
          }
        }
      ]
    },
    {
      "cell_type": "code",
      "source": [
        "sns.displot(data=new, x=\"s6\", hue=\"Progression\", kind=\"kde\")"
      ],
      "metadata": {
        "colab": {
          "base_uri": "https://localhost:8080/",
          "height": 386
        },
        "id": "9k9gCjWcQEb-",
        "outputId": "1cb4d945-9001-4610-e169-41d2a0c01b71"
      },
      "execution_count": 37,
      "outputs": [
        {
          "output_type": "execute_result",
          "data": {
            "text/plain": [
              "<seaborn.axisgrid.FacetGrid at 0x7f732dea3310>"
            ]
          },
          "metadata": {},
          "execution_count": 37
        },
        {
          "output_type": "display_data",
          "data": {
            "text/plain": [
              "<Figure size 425.875x360 with 1 Axes>"
            ],
            "image/png": "[encoded data removed]"
          },
          "metadata": {
            "needs_background": "light"
          }
        }
      ]
    },
    {
      "cell_type": "code",
      "source": [
        ""
      ],
      "metadata": {
        "id": "ZvJw8lFDPvX_"
      },
      "execution_count": null,
      "outputs": []
    },
    {
      "cell_type": "code",
      "source": [
        ""
      ],
      "metadata": {
        "id": "h_OErfJeNxdi"
      },
      "execution_count": null,
      "outputs": []
    },
    {
      "cell_type": "markdown",
      "source": [
        "## **Mais Análises**"
      ],
      "metadata": {
        "id": "9hZ57WOMw7WB"
      }
    },
    {
      "cell_type": "code",
      "source": [
        "sns.displot(dia[\"Progression\"])"
      ],
      "metadata": {
        "id": "WlFzn0cOZecd",
        "colab": {
          "base_uri": "https://localhost:8080/",
          "height": 386
        },
        "outputId": "84556593-ecce-461d-faa1-37d408763ae0"
      },
      "execution_count": 38,
      "outputs": [
        {
          "output_type": "execute_result",
          "data": {
            "text/plain": [
              "<seaborn.axisgrid.FacetGrid at 0x7f732df456d0>"
            ]
          },
          "metadata": {},
          "execution_count": 38
        },
        {
          "output_type": "display_data",
          "data": {
            "text/plain": [
              "<Figure size 360x360 with 1 Axes>"
            ],
            "image/png": "[encoded data removed]"
          },
          "metadata": {
            "needs_background": "light"
          }
        }
      ]
    },
    {
      "cell_type": "code",
      "source": [
        "dia[\"Progression\"].describe()"
      ],
      "metadata": {
        "colab": {
          "base_uri": "https://localhost:8080/"
        },
        "id": "1_gMtqpUw71Z",
        "outputId": "71c15947-bbb5-4903-b483-55bef6c356de"
      },
      "execution_count": 39,
      "outputs": [
        {
          "output_type": "execute_result",
          "data": {
            "text/plain": [
              "count    442.000000\n",
              "mean     152.133484\n",
              "std       77.093005\n",
              "min       25.000000\n",
              "25%       87.000000\n",
              "50%      140.500000\n",
              "75%      211.500000\n",
              "max      346.000000\n",
              "Name: Progression, dtype: float64"
            ]
          },
          "metadata": {},
          "execution_count": 39
        }
      ]
    },
    {
      "cell_type": "code",
      "source": [
        ""
      ],
      "metadata": {
        "id": "efBiTcfuw8M0"
      },
      "execution_count": 39,
      "outputs": []
    },
    {
      "cell_type": "code",
      "source": [
        " sns.barplot(x=\"sex\", y=\"Progression\", data=dia)\n",
        " # como a progressão da doença se mostra sobre os sexos"
      ],
      "metadata": {
        "colab": {
          "base_uri": "https://localhost:8080/",
          "height": 296
        },
        "id": "Xl9FhnGfw8Pw",
        "outputId": "003fd7e9-7716-4d50-cda4-a728be6618e1"
      },
      "execution_count": 40,
      "outputs": [
        {
          "output_type": "execute_result",
          "data": {
            "text/plain": [
              "<matplotlib.axes._subplots.AxesSubplot at 0x7f732dcaa150>"
            ]
          },
          "metadata": {},
          "execution_count": 40
        },
        {
          "output_type": "display_data",
          "data": {
            "text/plain": [
              "<Figure size 432x288 with 1 Axes>"
            ],
            "image/png": "[encoded data removed]"
          },
          "metadata": {
            "needs_background": "light"
          }
        }
      ]
    },
    {
      "cell_type": "code",
      "source": [
        ""
      ],
      "metadata": {
        "id": "7X2QPab1w8VE"
      },
      "execution_count": 40,
      "outputs": []
    },
    {
      "cell_type": "code",
      "source": [
        "sns.barplot(x=\"s4\", y=\"Progression\", data=new, hue=\"sex\")\n",
        "# como a progressão da doença se mostra de acordo com os atributos sexo e s4"
      ],
      "metadata": {
        "colab": {
          "base_uri": "https://localhost:8080/",
          "height": 296
        },
        "id": "NIv-BPhew8YJ",
        "outputId": "5383424b-4a12-4e0d-f6b0-fd9e5cefce0f"
      },
      "execution_count": 41,
      "outputs": [
        {
          "output_type": "execute_result",
          "data": {
            "text/plain": [
              "<matplotlib.axes._subplots.AxesSubplot at 0x7f732dc04350>"
            ]
          },
          "metadata": {},
          "execution_count": 41
        },
        {
          "output_type": "display_data",
          "data": {
            "text/plain": [
              "<Figure size 432x288 with 1 Axes>"
            ],
            "image/png": "[encoded data removed]"
          },
          "metadata": {
            "needs_background": "light"
          }
        }
      ]
    },
    {
      "cell_type": "code",
      "source": [
        " sns.barplot(x=\"bp\", y=\"Progression\", data=new, hue=\"sex\")\n",
        "# como a progressão da doença se mostra de acordo com os atributos sexo e bp"
      ],
      "metadata": {
        "colab": {
          "base_uri": "https://localhost:8080/",
          "height": 296
        },
        "id": "8LmR6Lwow8ae",
        "outputId": "d74458aa-c98b-4f35-8d44-70e210a07df6"
      },
      "execution_count": 42,
      "outputs": [
        {
          "output_type": "execute_result",
          "data": {
            "text/plain": [
              "<matplotlib.axes._subplots.AxesSubplot at 0x7f732dc65950>"
            ]
          },
          "metadata": {},
          "execution_count": 42
        },
        {
          "output_type": "display_data",
          "data": {
            "text/plain": [
              "<Figure size 432x288 with 1 Axes>"
            ],
            "image/png": "[encoded data removed]"
          },
          "metadata": {
            "needs_background": "light"
          }
        }
      ]
    },
    {
      "cell_type": "code",
      "source": [
        " sns.barplot(x=\"bmi\", y=\"Progression\", data=new, hue=\"sex\")\n",
        " # como a progressão da doença se mostra de acordo com os atributos sexo e bmi"
      ],
      "metadata": {
        "colab": {
          "base_uri": "https://localhost:8080/",
          "height": 296
        },
        "id": "FAM5u8Ldw8dr",
        "outputId": "604fcfae-4cda-42a1-e810-2dcf9dd252f1"
      },
      "execution_count": 43,
      "outputs": [
        {
          "output_type": "execute_result",
          "data": {
            "text/plain": [
              "<matplotlib.axes._subplots.AxesSubplot at 0x7f732db13290>"
            ]
          },
          "metadata": {},
          "execution_count": 43
        },
        {
          "output_type": "display_data",
          "data": {
            "text/plain": [
              "<Figure size 432x288 with 1 Axes>"
            ],
            "image/png": "[encoded data removed]"
          },
          "metadata": {
            "needs_background": "light"
          }
        }
      ]
    },
    {
      "cell_type": "code",
      "source": [
        ""
      ],
      "metadata": {
        "id": "1CpVvxVhNtuv"
      },
      "execution_count": null,
      "outputs": []
    },
    {
      "cell_type": "code",
      "source": [
        ""
      ],
      "metadata": {
        "id": "fU-oJkiKNtyQ"
      },
      "execution_count": null,
      "outputs": []
    },
    {
      "cell_type": "markdown",
      "source": [
        "*   O dataset trabalhado é interessante para modelos de regressão.\n",
        "*   Analisou-se o comportamento dos atributos para cada faixa de progressão, isso auxilia na percepção de características que possam viabilizar a tarefa de regressão."
      ],
      "metadata": {
        "id": "NhuEMThy3SNH"
      }
    },
    {
      "cell_type": "code",
      "source": [
        ""
      ],
      "metadata": {
        "id": "UnRH2BOv3XLb"
      },
      "execution_count": null,
      "outputs": []
    },
    {
      "cell_type": "code",
      "source": [
        ""
      ],
      "metadata": {
        "id": "BiVXQwnk3aUl"
      },
      "execution_count": null,
      "outputs": []
    }
  ]
}